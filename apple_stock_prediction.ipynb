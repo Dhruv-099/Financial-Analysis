{
  "cells": [
    {
      "cell_type": "markdown",
      "metadata": {
        "id": "TagnGf1x9D74"
      },
      "source": [
        "### Stock Market Prediction And Forecasting Using Stacked LSTM"
      ]
    },
    {
      "cell_type": "code",
      "execution_count": 6,
      "metadata": {
        "id": "qJ4Fd56-9D8B"
      },
      "outputs": [],
      "source": [
        "### Keras and Tensorflow >2.0"
      ]
    },
    {
      "cell_type": "code",
      "execution_count": 5,
      "metadata": {
        "colab": {
          "base_uri": "https://localhost:8080/"
        },
        "id": "VmOLt1F79D8B",
        "outputId": "624d05a0-225f-4a54-9563-7c92f1c9c311"
      },
      "outputs": [
        {
          "output_type": "stream",
          "name": "stderr",
          "text": [
            "\r[*********************100%%**********************]  1 of 1 completed\n"
          ]
        }
      ],
      "source": [
        "### Data Collection\n",
        "import yfinance as yf\n",
        "\n",
        "df = yf.download('AAPL')\n"
      ]
    },
    {
      "cell_type": "code",
      "execution_count": 7,
      "metadata": {
        "id": "O-uwVDrS9D8C"
      },
      "outputs": [],
      "source": [
        "df.to_csv('AAPL.csv')"
      ]
    },
    {
      "cell_type": "code",
      "execution_count": 8,
      "metadata": {
        "id": "OECyhf4h9D8C"
      },
      "outputs": [],
      "source": [
        "import pandas as pd"
      ]
    },
    {
      "cell_type": "code",
      "execution_count": 9,
      "metadata": {
        "id": "QubZD5No9D8D"
      },
      "outputs": [],
      "source": [
        "df=pd.read_csv('AAPL.csv')"
      ]
    },
    {
      "cell_type": "code",
      "execution_count": 10,
      "metadata": {
        "colab": {
          "base_uri": "https://localhost:8080/",
          "height": 206
        },
        "id": "xTKFUY519D8D",
        "outputId": "012e3a5c-78e1-49f4-906e-32cb0ecb80f1"
      },
      "outputs": [
        {
          "output_type": "execute_result",
          "data": {
            "text/plain": [
              "         Date      Open      High       Low     Close  Adj Close     Volume\n",
              "0  1980-12-12  0.128348  0.128906  0.128348  0.128348   0.099058  469033600\n",
              "1  1980-12-15  0.122210  0.122210  0.121652  0.121652   0.093890  175884800\n",
              "2  1980-12-16  0.113281  0.113281  0.112723  0.112723   0.086999  105728000\n",
              "3  1980-12-17  0.115513  0.116071  0.115513  0.115513   0.089152   86441600\n",
              "4  1980-12-18  0.118862  0.119420  0.118862  0.118862   0.091737   73449600"
            ],
            "text/html": [
              "\n",
              "  <div id=\"df-45622817-f836-4514-bd8f-a5a11a2f8d49\" class=\"colab-df-container\">\n",
              "    <div>\n",
              "<style scoped>\n",
              "    .dataframe tbody tr th:only-of-type {\n",
              "        vertical-align: middle;\n",
              "    }\n",
              "\n",
              "    .dataframe tbody tr th {\n",
              "        vertical-align: top;\n",
              "    }\n",
              "\n",
              "    .dataframe thead th {\n",
              "        text-align: right;\n",
              "    }\n",
              "</style>\n",
              "<table border=\"1\" class=\"dataframe\">\n",
              "  <thead>\n",
              "    <tr style=\"text-align: right;\">\n",
              "      <th></th>\n",
              "      <th>Date</th>\n",
              "      <th>Open</th>\n",
              "      <th>High</th>\n",
              "      <th>Low</th>\n",
              "      <th>Close</th>\n",
              "      <th>Adj Close</th>\n",
              "      <th>Volume</th>\n",
              "    </tr>\n",
              "  </thead>\n",
              "  <tbody>\n",
              "    <tr>\n",
              "      <th>0</th>\n",
              "      <td>1980-12-12</td>\n",
              "      <td>0.128348</td>\n",
              "      <td>0.128906</td>\n",
              "      <td>0.128348</td>\n",
              "      <td>0.128348</td>\n",
              "      <td>0.099058</td>\n",
              "      <td>469033600</td>\n",
              "    </tr>\n",
              "    <tr>\n",
              "      <th>1</th>\n",
              "      <td>1980-12-15</td>\n",
              "      <td>0.122210</td>\n",
              "      <td>0.122210</td>\n",
              "      <td>0.121652</td>\n",
              "      <td>0.121652</td>\n",
              "      <td>0.093890</td>\n",
              "      <td>175884800</td>\n",
              "    </tr>\n",
              "    <tr>\n",
              "      <th>2</th>\n",
              "      <td>1980-12-16</td>\n",
              "      <td>0.113281</td>\n",
              "      <td>0.113281</td>\n",
              "      <td>0.112723</td>\n",
              "      <td>0.112723</td>\n",
              "      <td>0.086999</td>\n",
              "      <td>105728000</td>\n",
              "    </tr>\n",
              "    <tr>\n",
              "      <th>3</th>\n",
              "      <td>1980-12-17</td>\n",
              "      <td>0.115513</td>\n",
              "      <td>0.116071</td>\n",
              "      <td>0.115513</td>\n",
              "      <td>0.115513</td>\n",
              "      <td>0.089152</td>\n",
              "      <td>86441600</td>\n",
              "    </tr>\n",
              "    <tr>\n",
              "      <th>4</th>\n",
              "      <td>1980-12-18</td>\n",
              "      <td>0.118862</td>\n",
              "      <td>0.119420</td>\n",
              "      <td>0.118862</td>\n",
              "      <td>0.118862</td>\n",
              "      <td>0.091737</td>\n",
              "      <td>73449600</td>\n",
              "    </tr>\n",
              "  </tbody>\n",
              "</table>\n",
              "</div>\n",
              "    <div class=\"colab-df-buttons\">\n",
              "\n",
              "  <div class=\"colab-df-container\">\n",
              "    <button class=\"colab-df-convert\" onclick=\"convertToInteractive('df-45622817-f836-4514-bd8f-a5a11a2f8d49')\"\n",
              "            title=\"Convert this dataframe to an interactive table.\"\n",
              "            style=\"display:none;\">\n",
              "\n",
              "  <svg xmlns=\"http://www.w3.org/2000/svg\" height=\"24px\" viewBox=\"0 -960 960 960\">\n",
              "    <path d=\"M120-120v-720h720v720H120Zm60-500h600v-160H180v160Zm220 220h160v-160H400v160Zm0 220h160v-160H400v160ZM180-400h160v-160H180v160Zm440 0h160v-160H620v160ZM180-180h160v-160H180v160Zm440 0h160v-160H620v160Z\"/>\n",
              "  </svg>\n",
              "    </button>\n",
              "\n",
              "  <style>\n",
              "    .colab-df-container {\n",
              "      display:flex;\n",
              "      gap: 12px;\n",
              "    }\n",
              "\n",
              "    .colab-df-convert {\n",
              "      background-color: #E8F0FE;\n",
              "      border: none;\n",
              "      border-radius: 50%;\n",
              "      cursor: pointer;\n",
              "      display: none;\n",
              "      fill: #1967D2;\n",
              "      height: 32px;\n",
              "      padding: 0 0 0 0;\n",
              "      width: 32px;\n",
              "    }\n",
              "\n",
              "    .colab-df-convert:hover {\n",
              "      background-color: #E2EBFA;\n",
              "      box-shadow: 0px 1px 2px rgba(60, 64, 67, 0.3), 0px 1px 3px 1px rgba(60, 64, 67, 0.15);\n",
              "      fill: #174EA6;\n",
              "    }\n",
              "\n",
              "    .colab-df-buttons div {\n",
              "      margin-bottom: 4px;\n",
              "    }\n",
              "\n",
              "    [theme=dark] .colab-df-convert {\n",
              "      background-color: #3B4455;\n",
              "      fill: #D2E3FC;\n",
              "    }\n",
              "\n",
              "    [theme=dark] .colab-df-convert:hover {\n",
              "      background-color: #434B5C;\n",
              "      box-shadow: 0px 1px 3px 1px rgba(0, 0, 0, 0.15);\n",
              "      filter: drop-shadow(0px 1px 2px rgba(0, 0, 0, 0.3));\n",
              "      fill: #FFFFFF;\n",
              "    }\n",
              "  </style>\n",
              "\n",
              "    <script>\n",
              "      const buttonEl =\n",
              "        document.querySelector('#df-45622817-f836-4514-bd8f-a5a11a2f8d49 button.colab-df-convert');\n",
              "      buttonEl.style.display =\n",
              "        google.colab.kernel.accessAllowed ? 'block' : 'none';\n",
              "\n",
              "      async function convertToInteractive(key) {\n",
              "        const element = document.querySelector('#df-45622817-f836-4514-bd8f-a5a11a2f8d49');\n",
              "        const dataTable =\n",
              "          await google.colab.kernel.invokeFunction('convertToInteractive',\n",
              "                                                    [key], {});\n",
              "        if (!dataTable) return;\n",
              "\n",
              "        const docLinkHtml = 'Like what you see? Visit the ' +\n",
              "          '<a target=\"_blank\" href=https://colab.research.google.com/notebooks/data_table.ipynb>data table notebook</a>'\n",
              "          + ' to learn more about interactive tables.';\n",
              "        element.innerHTML = '';\n",
              "        dataTable['output_type'] = 'display_data';\n",
              "        await google.colab.output.renderOutput(dataTable, element);\n",
              "        const docLink = document.createElement('div');\n",
              "        docLink.innerHTML = docLinkHtml;\n",
              "        element.appendChild(docLink);\n",
              "      }\n",
              "    </script>\n",
              "  </div>\n",
              "\n",
              "\n",
              "<div id=\"df-b030a475-62dd-4882-a2bd-334fbca9f73a\">\n",
              "  <button class=\"colab-df-quickchart\" onclick=\"quickchart('df-b030a475-62dd-4882-a2bd-334fbca9f73a')\"\n",
              "            title=\"Suggest charts\"\n",
              "            style=\"display:none;\">\n",
              "\n",
              "<svg xmlns=\"http://www.w3.org/2000/svg\" height=\"24px\"viewBox=\"0 0 24 24\"\n",
              "     width=\"24px\">\n",
              "    <g>\n",
              "        <path d=\"M19 3H5c-1.1 0-2 .9-2 2v14c0 1.1.9 2 2 2h14c1.1 0 2-.9 2-2V5c0-1.1-.9-2-2-2zM9 17H7v-7h2v7zm4 0h-2V7h2v10zm4 0h-2v-4h2v4z\"/>\n",
              "    </g>\n",
              "</svg>\n",
              "  </button>\n",
              "\n",
              "<style>\n",
              "  .colab-df-quickchart {\n",
              "      --bg-color: #E8F0FE;\n",
              "      --fill-color: #1967D2;\n",
              "      --hover-bg-color: #E2EBFA;\n",
              "      --hover-fill-color: #174EA6;\n",
              "      --disabled-fill-color: #AAA;\n",
              "      --disabled-bg-color: #DDD;\n",
              "  }\n",
              "\n",
              "  [theme=dark] .colab-df-quickchart {\n",
              "      --bg-color: #3B4455;\n",
              "      --fill-color: #D2E3FC;\n",
              "      --hover-bg-color: #434B5C;\n",
              "      --hover-fill-color: #FFFFFF;\n",
              "      --disabled-bg-color: #3B4455;\n",
              "      --disabled-fill-color: #666;\n",
              "  }\n",
              "\n",
              "  .colab-df-quickchart {\n",
              "    background-color: var(--bg-color);\n",
              "    border: none;\n",
              "    border-radius: 50%;\n",
              "    cursor: pointer;\n",
              "    display: none;\n",
              "    fill: var(--fill-color);\n",
              "    height: 32px;\n",
              "    padding: 0;\n",
              "    width: 32px;\n",
              "  }\n",
              "\n",
              "  .colab-df-quickchart:hover {\n",
              "    background-color: var(--hover-bg-color);\n",
              "    box-shadow: 0 1px 2px rgba(60, 64, 67, 0.3), 0 1px 3px 1px rgba(60, 64, 67, 0.15);\n",
              "    fill: var(--button-hover-fill-color);\n",
              "  }\n",
              "\n",
              "  .colab-df-quickchart-complete:disabled,\n",
              "  .colab-df-quickchart-complete:disabled:hover {\n",
              "    background-color: var(--disabled-bg-color);\n",
              "    fill: var(--disabled-fill-color);\n",
              "    box-shadow: none;\n",
              "  }\n",
              "\n",
              "  .colab-df-spinner {\n",
              "    border: 2px solid var(--fill-color);\n",
              "    border-color: transparent;\n",
              "    border-bottom-color: var(--fill-color);\n",
              "    animation:\n",
              "      spin 1s steps(1) infinite;\n",
              "  }\n",
              "\n",
              "  @keyframes spin {\n",
              "    0% {\n",
              "      border-color: transparent;\n",
              "      border-bottom-color: var(--fill-color);\n",
              "      border-left-color: var(--fill-color);\n",
              "    }\n",
              "    20% {\n",
              "      border-color: transparent;\n",
              "      border-left-color: var(--fill-color);\n",
              "      border-top-color: var(--fill-color);\n",
              "    }\n",
              "    30% {\n",
              "      border-color: transparent;\n",
              "      border-left-color: var(--fill-color);\n",
              "      border-top-color: var(--fill-color);\n",
              "      border-right-color: var(--fill-color);\n",
              "    }\n",
              "    40% {\n",
              "      border-color: transparent;\n",
              "      border-right-color: var(--fill-color);\n",
              "      border-top-color: var(--fill-color);\n",
              "    }\n",
              "    60% {\n",
              "      border-color: transparent;\n",
              "      border-right-color: var(--fill-color);\n",
              "    }\n",
              "    80% {\n",
              "      border-color: transparent;\n",
              "      border-right-color: var(--fill-color);\n",
              "      border-bottom-color: var(--fill-color);\n",
              "    }\n",
              "    90% {\n",
              "      border-color: transparent;\n",
              "      border-bottom-color: var(--fill-color);\n",
              "    }\n",
              "  }\n",
              "</style>\n",
              "\n",
              "  <script>\n",
              "    async function quickchart(key) {\n",
              "      const quickchartButtonEl =\n",
              "        document.querySelector('#' + key + ' button');\n",
              "      quickchartButtonEl.disabled = true;  // To prevent multiple clicks.\n",
              "      quickchartButtonEl.classList.add('colab-df-spinner');\n",
              "      try {\n",
              "        const charts = await google.colab.kernel.invokeFunction(\n",
              "            'suggestCharts', [key], {});\n",
              "      } catch (error) {\n",
              "        console.error('Error during call to suggestCharts:', error);\n",
              "      }\n",
              "      quickchartButtonEl.classList.remove('colab-df-spinner');\n",
              "      quickchartButtonEl.classList.add('colab-df-quickchart-complete');\n",
              "    }\n",
              "    (() => {\n",
              "      let quickchartButtonEl =\n",
              "        document.querySelector('#df-b030a475-62dd-4882-a2bd-334fbca9f73a button');\n",
              "      quickchartButtonEl.style.display =\n",
              "        google.colab.kernel.accessAllowed ? 'block' : 'none';\n",
              "    })();\n",
              "  </script>\n",
              "</div>\n",
              "\n",
              "    </div>\n",
              "  </div>\n"
            ],
            "application/vnd.google.colaboratory.intrinsic+json": {
              "type": "dataframe",
              "variable_name": "df",
              "summary": "{\n  \"name\": \"df\",\n  \"rows\": 10995,\n  \"fields\": [\n    {\n      \"column\": \"Date\",\n      \"properties\": {\n        \"dtype\": \"object\",\n        \"num_unique_values\": 10995,\n        \"samples\": [\n          \"1981-05-18\",\n          \"2002-08-28\",\n          \"1992-03-19\"\n        ],\n        \"semantic_type\": \"\",\n        \"description\": \"\"\n      }\n    },\n    {\n      \"column\": \"Open\",\n      \"properties\": {\n        \"dtype\": \"number\",\n        \"std\": 45.89586177971573,\n        \"min\": 0.0496650002896785,\n        \"max\": 236.47999572753903,\n        \"num_unique_values\": 6302,\n        \"samples\": [\n          2.458570957183838,\n          0.3314729928970337,\n          0.5905359983444214\n        ],\n        \"semantic_type\": \"\",\n        \"description\": \"\"\n      }\n    },\n    {\n      \"column\": \"High\",\n      \"properties\": {\n        \"dtype\": \"number\",\n        \"std\": 46.38814241381206,\n        \"min\": 0.0496650002896785,\n        \"max\": 237.22999572753903,\n        \"num_unique_values\": 6246,\n        \"samples\": [\n          0.46875,\n          0.3644640147686004,\n          0.0970980003476142\n        ],\n        \"semantic_type\": \"\",\n        \"description\": \"\"\n      }\n    },\n    {\n      \"column\": \"Low\",\n      \"properties\": {\n        \"dtype\": \"number\",\n        \"std\": 45.434357200485614,\n        \"min\": 0.0491070002317428,\n        \"max\": 233.08999633789065,\n        \"num_unique_values\": 6234,\n        \"samples\": [\n          0.2154020071029663,\n          140.61000061035156,\n          130.22999572753906\n        ],\n        \"semantic_type\": \"\",\n        \"description\": \"\"\n      }\n    },\n    {\n      \"column\": \"Close\",\n      \"properties\": {\n        \"dtype\": \"number\",\n        \"std\": 45.930827515676384,\n        \"min\": 0.0491070002317428,\n        \"max\": 234.82000732421875,\n        \"num_unique_values\": 6411,\n        \"samples\": [\n          38.47999954223633,\n          0.4139289855957031,\n          43.16749954223633\n        ],\n        \"semantic_type\": \"\",\n        \"description\": \"\"\n      }\n    },\n    {\n      \"column\": \"Adj Close\",\n      \"properties\": {\n        \"dtype\": \"number\",\n        \"std\": 45.505781121564134,\n        \"min\": 0.0379003025591373,\n        \"max\": 234.82000732421875,\n        \"num_unique_values\": 7986,\n        \"samples\": [\n          13.403852462768556,\n          0.3397300839424133,\n          185.1024169921875\n        ],\n        \"semantic_type\": \"\",\n        \"description\": \"\"\n      }\n    },\n    {\n      \"column\": \"Volume\",\n      \"properties\": {\n        \"dtype\": \"number\",\n        \"std\": 335468099,\n        \"min\": 0,\n        \"max\": 7421640800,\n        \"num_unique_values\": 10431,\n        \"samples\": [\n          525302400,\n          354163600,\n          298491200\n        ],\n        \"semantic_type\": \"\",\n        \"description\": \"\"\n      }\n    }\n  ]\n}"
            }
          },
          "metadata": {},
          "execution_count": 10
        }
      ],
      "source": [
        "df.head()"
      ]
    },
    {
      "cell_type": "code",
      "execution_count": 11,
      "metadata": {
        "colab": {
          "base_uri": "https://localhost:8080/",
          "height": 206
        },
        "id": "n3vVbKew9D8D",
        "outputId": "c59edab1-a0ff-4704-f3af-ca6ef4b87ba5"
      },
      "outputs": [
        {
          "output_type": "execute_result",
          "data": {
            "text/plain": [
              "             Date        Open        High         Low       Close   Adj Close  \\\n",
              "10990  2024-07-19  224.820007  226.800003  223.279999  224.309998  224.309998   \n",
              "10991  2024-07-22  227.009995  227.779999  223.089996  223.960007  223.960007   \n",
              "10992  2024-07-23  224.369995  226.940002  222.679993  225.009995  225.009995   \n",
              "10993  2024-07-24  224.000000  224.800003  217.130005  218.539993  218.539993   \n",
              "10994  2024-07-25  218.869995  220.850006  214.619995  219.850006  219.850006   \n",
              "\n",
              "         Volume  \n",
              "10990  49151500  \n",
              "10991  48201800  \n",
              "10992  39960300  \n",
              "10993  61630300  \n",
              "10994  31773801  "
            ],
            "text/html": [
              "\n",
              "  <div id=\"df-293b5901-a491-4230-9645-460d35fb5c05\" class=\"colab-df-container\">\n",
              "    <div>\n",
              "<style scoped>\n",
              "    .dataframe tbody tr th:only-of-type {\n",
              "        vertical-align: middle;\n",
              "    }\n",
              "\n",
              "    .dataframe tbody tr th {\n",
              "        vertical-align: top;\n",
              "    }\n",
              "\n",
              "    .dataframe thead th {\n",
              "        text-align: right;\n",
              "    }\n",
              "</style>\n",
              "<table border=\"1\" class=\"dataframe\">\n",
              "  <thead>\n",
              "    <tr style=\"text-align: right;\">\n",
              "      <th></th>\n",
              "      <th>Date</th>\n",
              "      <th>Open</th>\n",
              "      <th>High</th>\n",
              "      <th>Low</th>\n",
              "      <th>Close</th>\n",
              "      <th>Adj Close</th>\n",
              "      <th>Volume</th>\n",
              "    </tr>\n",
              "  </thead>\n",
              "  <tbody>\n",
              "    <tr>\n",
              "      <th>10990</th>\n",
              "      <td>2024-07-19</td>\n",
              "      <td>224.820007</td>\n",
              "      <td>226.800003</td>\n",
              "      <td>223.279999</td>\n",
              "      <td>224.309998</td>\n",
              "      <td>224.309998</td>\n",
              "      <td>49151500</td>\n",
              "    </tr>\n",
              "    <tr>\n",
              "      <th>10991</th>\n",
              "      <td>2024-07-22</td>\n",
              "      <td>227.009995</td>\n",
              "      <td>227.779999</td>\n",
              "      <td>223.089996</td>\n",
              "      <td>223.960007</td>\n",
              "      <td>223.960007</td>\n",
              "      <td>48201800</td>\n",
              "    </tr>\n",
              "    <tr>\n",
              "      <th>10992</th>\n",
              "      <td>2024-07-23</td>\n",
              "      <td>224.369995</td>\n",
              "      <td>226.940002</td>\n",
              "      <td>222.679993</td>\n",
              "      <td>225.009995</td>\n",
              "      <td>225.009995</td>\n",
              "      <td>39960300</td>\n",
              "    </tr>\n",
              "    <tr>\n",
              "      <th>10993</th>\n",
              "      <td>2024-07-24</td>\n",
              "      <td>224.000000</td>\n",
              "      <td>224.800003</td>\n",
              "      <td>217.130005</td>\n",
              "      <td>218.539993</td>\n",
              "      <td>218.539993</td>\n",
              "      <td>61630300</td>\n",
              "    </tr>\n",
              "    <tr>\n",
              "      <th>10994</th>\n",
              "      <td>2024-07-25</td>\n",
              "      <td>218.869995</td>\n",
              "      <td>220.850006</td>\n",
              "      <td>214.619995</td>\n",
              "      <td>219.850006</td>\n",
              "      <td>219.850006</td>\n",
              "      <td>31773801</td>\n",
              "    </tr>\n",
              "  </tbody>\n",
              "</table>\n",
              "</div>\n",
              "    <div class=\"colab-df-buttons\">\n",
              "\n",
              "  <div class=\"colab-df-container\">\n",
              "    <button class=\"colab-df-convert\" onclick=\"convertToInteractive('df-293b5901-a491-4230-9645-460d35fb5c05')\"\n",
              "            title=\"Convert this dataframe to an interactive table.\"\n",
              "            style=\"display:none;\">\n",
              "\n",
              "  <svg xmlns=\"http://www.w3.org/2000/svg\" height=\"24px\" viewBox=\"0 -960 960 960\">\n",
              "    <path d=\"M120-120v-720h720v720H120Zm60-500h600v-160H180v160Zm220 220h160v-160H400v160Zm0 220h160v-160H400v160ZM180-400h160v-160H180v160Zm440 0h160v-160H620v160ZM180-180h160v-160H180v160Zm440 0h160v-160H620v160Z\"/>\n",
              "  </svg>\n",
              "    </button>\n",
              "\n",
              "  <style>\n",
              "    .colab-df-container {\n",
              "      display:flex;\n",
              "      gap: 12px;\n",
              "    }\n",
              "\n",
              "    .colab-df-convert {\n",
              "      background-color: #E8F0FE;\n",
              "      border: none;\n",
              "      border-radius: 50%;\n",
              "      cursor: pointer;\n",
              "      display: none;\n",
              "      fill: #1967D2;\n",
              "      height: 32px;\n",
              "      padding: 0 0 0 0;\n",
              "      width: 32px;\n",
              "    }\n",
              "\n",
              "    .colab-df-convert:hover {\n",
              "      background-color: #E2EBFA;\n",
              "      box-shadow: 0px 1px 2px rgba(60, 64, 67, 0.3), 0px 1px 3px 1px rgba(60, 64, 67, 0.15);\n",
              "      fill: #174EA6;\n",
              "    }\n",
              "\n",
              "    .colab-df-buttons div {\n",
              "      margin-bottom: 4px;\n",
              "    }\n",
              "\n",
              "    [theme=dark] .colab-df-convert {\n",
              "      background-color: #3B4455;\n",
              "      fill: #D2E3FC;\n",
              "    }\n",
              "\n",
              "    [theme=dark] .colab-df-convert:hover {\n",
              "      background-color: #434B5C;\n",
              "      box-shadow: 0px 1px 3px 1px rgba(0, 0, 0, 0.15);\n",
              "      filter: drop-shadow(0px 1px 2px rgba(0, 0, 0, 0.3));\n",
              "      fill: #FFFFFF;\n",
              "    }\n",
              "  </style>\n",
              "\n",
              "    <script>\n",
              "      const buttonEl =\n",
              "        document.querySelector('#df-293b5901-a491-4230-9645-460d35fb5c05 button.colab-df-convert');\n",
              "      buttonEl.style.display =\n",
              "        google.colab.kernel.accessAllowed ? 'block' : 'none';\n",
              "\n",
              "      async function convertToInteractive(key) {\n",
              "        const element = document.querySelector('#df-293b5901-a491-4230-9645-460d35fb5c05');\n",
              "        const dataTable =\n",
              "          await google.colab.kernel.invokeFunction('convertToInteractive',\n",
              "                                                    [key], {});\n",
              "        if (!dataTable) return;\n",
              "\n",
              "        const docLinkHtml = 'Like what you see? Visit the ' +\n",
              "          '<a target=\"_blank\" href=https://colab.research.google.com/notebooks/data_table.ipynb>data table notebook</a>'\n",
              "          + ' to learn more about interactive tables.';\n",
              "        element.innerHTML = '';\n",
              "        dataTable['output_type'] = 'display_data';\n",
              "        await google.colab.output.renderOutput(dataTable, element);\n",
              "        const docLink = document.createElement('div');\n",
              "        docLink.innerHTML = docLinkHtml;\n",
              "        element.appendChild(docLink);\n",
              "      }\n",
              "    </script>\n",
              "  </div>\n",
              "\n",
              "\n",
              "<div id=\"df-5107a669-e908-4564-8844-e41198748545\">\n",
              "  <button class=\"colab-df-quickchart\" onclick=\"quickchart('df-5107a669-e908-4564-8844-e41198748545')\"\n",
              "            title=\"Suggest charts\"\n",
              "            style=\"display:none;\">\n",
              "\n",
              "<svg xmlns=\"http://www.w3.org/2000/svg\" height=\"24px\"viewBox=\"0 0 24 24\"\n",
              "     width=\"24px\">\n",
              "    <g>\n",
              "        <path d=\"M19 3H5c-1.1 0-2 .9-2 2v14c0 1.1.9 2 2 2h14c1.1 0 2-.9 2-2V5c0-1.1-.9-2-2-2zM9 17H7v-7h2v7zm4 0h-2V7h2v10zm4 0h-2v-4h2v4z\"/>\n",
              "    </g>\n",
              "</svg>\n",
              "  </button>\n",
              "\n",
              "<style>\n",
              "  .colab-df-quickchart {\n",
              "      --bg-color: #E8F0FE;\n",
              "      --fill-color: #1967D2;\n",
              "      --hover-bg-color: #E2EBFA;\n",
              "      --hover-fill-color: #174EA6;\n",
              "      --disabled-fill-color: #AAA;\n",
              "      --disabled-bg-color: #DDD;\n",
              "  }\n",
              "\n",
              "  [theme=dark] .colab-df-quickchart {\n",
              "      --bg-color: #3B4455;\n",
              "      --fill-color: #D2E3FC;\n",
              "      --hover-bg-color: #434B5C;\n",
              "      --hover-fill-color: #FFFFFF;\n",
              "      --disabled-bg-color: #3B4455;\n",
              "      --disabled-fill-color: #666;\n",
              "  }\n",
              "\n",
              "  .colab-df-quickchart {\n",
              "    background-color: var(--bg-color);\n",
              "    border: none;\n",
              "    border-radius: 50%;\n",
              "    cursor: pointer;\n",
              "    display: none;\n",
              "    fill: var(--fill-color);\n",
              "    height: 32px;\n",
              "    padding: 0;\n",
              "    width: 32px;\n",
              "  }\n",
              "\n",
              "  .colab-df-quickchart:hover {\n",
              "    background-color: var(--hover-bg-color);\n",
              "    box-shadow: 0 1px 2px rgba(60, 64, 67, 0.3), 0 1px 3px 1px rgba(60, 64, 67, 0.15);\n",
              "    fill: var(--button-hover-fill-color);\n",
              "  }\n",
              "\n",
              "  .colab-df-quickchart-complete:disabled,\n",
              "  .colab-df-quickchart-complete:disabled:hover {\n",
              "    background-color: var(--disabled-bg-color);\n",
              "    fill: var(--disabled-fill-color);\n",
              "    box-shadow: none;\n",
              "  }\n",
              "\n",
              "  .colab-df-spinner {\n",
              "    border: 2px solid var(--fill-color);\n",
              "    border-color: transparent;\n",
              "    border-bottom-color: var(--fill-color);\n",
              "    animation:\n",
              "      spin 1s steps(1) infinite;\n",
              "  }\n",
              "\n",
              "  @keyframes spin {\n",
              "    0% {\n",
              "      border-color: transparent;\n",
              "      border-bottom-color: var(--fill-color);\n",
              "      border-left-color: var(--fill-color);\n",
              "    }\n",
              "    20% {\n",
              "      border-color: transparent;\n",
              "      border-left-color: var(--fill-color);\n",
              "      border-top-color: var(--fill-color);\n",
              "    }\n",
              "    30% {\n",
              "      border-color: transparent;\n",
              "      border-left-color: var(--fill-color);\n",
              "      border-top-color: var(--fill-color);\n",
              "      border-right-color: var(--fill-color);\n",
              "    }\n",
              "    40% {\n",
              "      border-color: transparent;\n",
              "      border-right-color: var(--fill-color);\n",
              "      border-top-color: var(--fill-color);\n",
              "    }\n",
              "    60% {\n",
              "      border-color: transparent;\n",
              "      border-right-color: var(--fill-color);\n",
              "    }\n",
              "    80% {\n",
              "      border-color: transparent;\n",
              "      border-right-color: var(--fill-color);\n",
              "      border-bottom-color: var(--fill-color);\n",
              "    }\n",
              "    90% {\n",
              "      border-color: transparent;\n",
              "      border-bottom-color: var(--fill-color);\n",
              "    }\n",
              "  }\n",
              "</style>\n",
              "\n",
              "  <script>\n",
              "    async function quickchart(key) {\n",
              "      const quickchartButtonEl =\n",
              "        document.querySelector('#' + key + ' button');\n",
              "      quickchartButtonEl.disabled = true;  // To prevent multiple clicks.\n",
              "      quickchartButtonEl.classList.add('colab-df-spinner');\n",
              "      try {\n",
              "        const charts = await google.colab.kernel.invokeFunction(\n",
              "            'suggestCharts', [key], {});\n",
              "      } catch (error) {\n",
              "        console.error('Error during call to suggestCharts:', error);\n",
              "      }\n",
              "      quickchartButtonEl.classList.remove('colab-df-spinner');\n",
              "      quickchartButtonEl.classList.add('colab-df-quickchart-complete');\n",
              "    }\n",
              "    (() => {\n",
              "      let quickchartButtonEl =\n",
              "        document.querySelector('#df-5107a669-e908-4564-8844-e41198748545 button');\n",
              "      quickchartButtonEl.style.display =\n",
              "        google.colab.kernel.accessAllowed ? 'block' : 'none';\n",
              "    })();\n",
              "  </script>\n",
              "</div>\n",
              "\n",
              "    </div>\n",
              "  </div>\n"
            ],
            "application/vnd.google.colaboratory.intrinsic+json": {
              "type": "dataframe",
              "repr_error": "0"
            }
          },
          "metadata": {},
          "execution_count": 11
        }
      ],
      "source": [
        "df.tail()"
      ]
    },
    {
      "cell_type": "code",
      "execution_count": 13,
      "metadata": {
        "id": "LMsuLa2k9D8E"
      },
      "outputs": [],
      "source": [
        "df1=df.reset_index()['Close']"
      ]
    },
    {
      "cell_type": "code",
      "execution_count": 14,
      "metadata": {
        "colab": {
          "base_uri": "https://localhost:8080/"
        },
        "id": "Pp_bqq4y9D8E",
        "outputId": "997d1dec-7d2b-42e6-a7ae-bcf684b90217"
      },
      "outputs": [
        {
          "output_type": "execute_result",
          "data": {
            "text/plain": [
              "0          0.128348\n",
              "1          0.121652\n",
              "2          0.112723\n",
              "3          0.115513\n",
              "4          0.118862\n",
              "            ...    \n",
              "10990    224.309998\n",
              "10991    223.960007\n",
              "10992    225.009995\n",
              "10993    218.539993\n",
              "10994    219.850006\n",
              "Name: Close, Length: 10995, dtype: float64"
            ]
          },
          "metadata": {},
          "execution_count": 14
        }
      ],
      "source": [
        "df1"
      ]
    },
    {
      "cell_type": "code",
      "execution_count": 15,
      "metadata": {
        "colab": {
          "base_uri": "https://localhost:8080/",
          "height": 447
        },
        "id": "2w99U0bM9D8E",
        "outputId": "e61c239d-5337-4df7-d3c5-e7a7eb8eecf6"
      },
      "outputs": [
        {
          "output_type": "execute_result",
          "data": {
            "text/plain": [
              "[<matplotlib.lines.Line2D at 0x79ce45d6b970>]"
            ]
          },
          "metadata": {},
          "execution_count": 15
        },
        {
          "output_type": "display_data",
          "data": {
            "text/plain": [
              "<Figure size 640x480 with 1 Axes>"
            ],
            "image/png": "[encoded data removed]"
          },
          "metadata": {}
        }
      ],
      "source": [
        "import matplotlib.pyplot as plt\n",
        "plt.plot(df1)"
      ]
    },
    {
      "cell_type": "code",
      "execution_count": 16,
      "metadata": {
        "id": "j76ZI5RP9D8E"
      },
      "outputs": [],
      "source": [
        "### LSTM are sensitive to the scale of the data. so we apply MinMax scaler"
      ]
    },
    {
      "cell_type": "code",
      "execution_count": 17,
      "metadata": {
        "id": "E3LkcLpn9D8E"
      },
      "outputs": [],
      "source": [
        "import numpy as np"
      ]
    },
    {
      "cell_type": "code",
      "execution_count": 18,
      "metadata": {
        "colab": {
          "base_uri": "https://localhost:8080/"
        },
        "id": "SxLae9qk9D8E",
        "outputId": "716b972e-8834-4bc9-881d-864775c42398"
      },
      "outputs": [
        {
          "output_type": "execute_result",
          "data": {
            "text/plain": [
              "0          0.128348\n",
              "1          0.121652\n",
              "2          0.112723\n",
              "3          0.115513\n",
              "4          0.118862\n",
              "            ...    \n",
              "10990    224.309998\n",
              "10991    223.960007\n",
              "10992    225.009995\n",
              "10993    218.539993\n",
              "10994    219.850006\n",
              "Name: Close, Length: 10995, dtype: float64"
            ]
          },
          "metadata": {},
          "execution_count": 18
        }
      ],
      "source": [
        "df1"
      ]
    },
    {
      "cell_type": "code",
      "execution_count": 19,
      "metadata": {
        "id": "n_BmCGPe9D8E"
      },
      "outputs": [],
      "source": [
        "from sklearn.preprocessing import MinMaxScaler\n",
        "scaler=MinMaxScaler(feature_range=(0,1))\n",
        "df1=scaler.fit_transform(np.array(df1).reshape(-1,1))"
      ]
    },
    {
      "cell_type": "code",
      "execution_count": 20,
      "metadata": {
        "colab": {
          "base_uri": "https://localhost:8080/"
        },
        "id": "KTnPqmFO9D8F",
        "outputId": "39bd6268-0ae2-4bb9-d7b7-3090a83dd29c"
      },
      "outputs": [
        {
          "output_type": "stream",
          "name": "stdout",
          "text": [
            "[[3.37524764e-04]\n",
            " [3.09003370e-04]\n",
            " [2.70970551e-04]\n",
            " ...\n",
            " [9.58214528e-01]\n",
            " [9.30655741e-01]\n",
            " [9.36235704e-01]]\n"
          ]
        }
      ],
      "source": [
        "print(df1)"
      ]
    },
    {
      "cell_type": "code",
      "execution_count": 21,
      "metadata": {
        "id": "47HeS-kj9D8F"
      },
      "outputs": [],
      "source": [
        "##splitting dataset into train and test split\n",
        "training_size=int(len(df1)*0.65)\n",
        "test_size=len(df1)-training_size\n",
        "train_data,test_data=df1[0:training_size,:],df1[training_size:len(df1),:1]"
      ]
    },
    {
      "cell_type": "code",
      "execution_count": 22,
      "metadata": {
        "colab": {
          "base_uri": "https://localhost:8080/"
        },
        "id": "3ZNXMCyn9D8F",
        "outputId": "d0d39edb-31d6-4d15-d709-8b54f9673148"
      },
      "outputs": [
        {
          "output_type": "execute_result",
          "data": {
            "text/plain": [
              "(7146, 3849)"
            ]
          },
          "metadata": {},
          "execution_count": 22
        }
      ],
      "source": [
        "training_size,test_size"
      ]
    },
    {
      "cell_type": "code",
      "execution_count": 23,
      "metadata": {
        "colab": {
          "base_uri": "https://localhost:8080/"
        },
        "id": "gIJByCs79D8F",
        "outputId": "0331e37d-258b-4d22-d13c-651d41af0aa1"
      },
      "outputs": [
        {
          "output_type": "execute_result",
          "data": {
            "text/plain": [
              "array([[0.00033752],\n",
              "       [0.000309  ],\n",
              "       [0.00027097],\n",
              "       ...,\n",
              "       [0.01780992],\n",
              "       [0.01728509],\n",
              "       [0.01748589]])"
            ]
          },
          "metadata": {},
          "execution_count": 23
        }
      ],
      "source": [
        "train_data"
      ]
    },
    {
      "cell_type": "code",
      "execution_count": 24,
      "metadata": {
        "id": "sPiTelVQ9D8F"
      },
      "outputs": [],
      "source": [
        "import numpy\n",
        "# convert an array of values into a dataset matrix\n",
        "def create_dataset(dataset, time_step=1):\n",
        "\tdataX, dataY = [], []\n",
        "\tfor i in range(len(dataset)-time_step-1):\n",
        "\t\ta = dataset[i:(i+time_step), 0]   ###i=0, 0,1,2,3-----99   100\n",
        "\t\tdataX.append(a)\n",
        "\t\tdataY.append(dataset[i + time_step, 0])\n",
        "\treturn numpy.array(dataX), numpy.array(dataY)"
      ]
    },
    {
      "cell_type": "code",
      "execution_count": 25,
      "metadata": {
        "id": "3JklgXoB9D8F"
      },
      "outputs": [],
      "source": [
        "# reshape into X=t,t+1,t+2,t+3 and Y=t+4\n",
        "time_step = 100\n",
        "X_train, y_train = create_dataset(train_data, time_step)\n",
        "X_test, ytest = create_dataset(test_data, time_step)"
      ]
    },
    {
      "cell_type": "code",
      "execution_count": 26,
      "metadata": {
        "colab": {
          "base_uri": "https://localhost:8080/"
        },
        "id": "PBcdsXI99D8F",
        "outputId": "c497047f-e7fb-4644-a9f3-df7e546ad10f"
      },
      "outputs": [
        {
          "output_type": "stream",
          "name": "stdout",
          "text": [
            "(7045, 100)\n",
            "(7045,)\n"
          ]
        },
        {
          "output_type": "execute_result",
          "data": {
            "text/plain": [
              "(None, None)"
            ]
          },
          "metadata": {},
          "execution_count": 26
        }
      ],
      "source": [
        "print(X_train.shape), print(y_train.shape)"
      ]
    },
    {
      "cell_type": "code",
      "execution_count": 27,
      "metadata": {
        "colab": {
          "base_uri": "https://localhost:8080/"
        },
        "id": "4G3A9SXr9D8G",
        "outputId": "0e133b47-5cdf-49aa-ca10-c9b7eab93245"
      },
      "outputs": [
        {
          "output_type": "stream",
          "name": "stdout",
          "text": [
            "(3748, 100)\n",
            "(3748,)\n"
          ]
        },
        {
          "output_type": "execute_result",
          "data": {
            "text/plain": [
              "(None, None)"
            ]
          },
          "metadata": {},
          "execution_count": 27
        }
      ],
      "source": [
        "print(X_test.shape), print(ytest.shape)"
      ]
    },
    {
      "cell_type": "code",
      "execution_count": 28,
      "metadata": {
        "id": "MG6g1oaF9D8G"
      },
      "outputs": [],
      "source": [
        "# reshape input to be [samples, time steps, features] which is required for LSTM\n",
        "X_train =X_train.reshape(X_train.shape[0],X_train.shape[1] , 1)\n",
        "X_test = X_test.reshape(X_test.shape[0],X_test.shape[1] , 1)"
      ]
    },
    {
      "cell_type": "code",
      "execution_count": 29,
      "metadata": {
        "id": "lyTOT7p19D8G"
      },
      "outputs": [],
      "source": [
        "### Create the Stacked LSTM model\n",
        "from tensorflow.keras.models import Sequential\n",
        "from tensorflow.keras.layers import Dense\n",
        "from tensorflow.keras.layers import LSTM"
      ]
    },
    {
      "cell_type": "code",
      "execution_count": 30,
      "metadata": {
        "id": "1o9AWsdj9D8G"
      },
      "outputs": [],
      "source": [
        "model=Sequential()\n",
        "model.add(LSTM(50,return_sequences=True,input_shape=(100,1)))\n",
        "model.add(LSTM(50,return_sequences=True))\n",
        "model.add(LSTM(50))\n",
        "model.add(Dense(1))\n",
        "model.compile(loss='mean_squared_error',optimizer='adam')\n"
      ]
    },
    {
      "cell_type": "code",
      "execution_count": 31,
      "metadata": {
        "colab": {
          "base_uri": "https://localhost:8080/"
        },
        "id": "SOJ69uQq9D8G",
        "outputId": "d281a464-c4ae-44e1-a365-83cb6ceb84d0"
      },
      "outputs": [
        {
          "output_type": "stream",
          "name": "stdout",
          "text": [
            "Model: \"sequential\"\n",
            "_________________________________________________________________\n",
            " Layer (type)                Output Shape              Param #   \n",
            "=================================================================\n",
            " lstm (LSTM)                 (None, 100, 50)           10400     \n",
            "                                                                 \n",
            " lstm_1 (LSTM)               (None, 100, 50)           20200     \n",
            "                                                                 \n",
            " lstm_2 (LSTM)               (None, 50)                20200     \n",
            "                                                                 \n",
            " dense (Dense)               (None, 1)                 51        \n",
            "                                                                 \n",
            "=================================================================\n",
            "Total params: 50851 (198.64 KB)\n",
            "Trainable params: 50851 (198.64 KB)\n",
            "Non-trainable params: 0 (0.00 Byte)\n",
            "_________________________________________________________________\n"
          ]
        }
      ],
      "source": [
        "model.summary()"
      ]
    },
    {
      "cell_type": "code",
      "execution_count": 32,
      "metadata": {
        "colab": {
          "base_uri": "https://localhost:8080/"
        },
        "id": "26f4LPUU9D8G",
        "outputId": "104ae6ea-ca1e-4cdc-acbd-4d0b28c171b3"
      },
      "outputs": [
        {
          "output_type": "stream",
          "name": "stdout",
          "text": [
            "Model: \"sequential\"\n",
            "_________________________________________________________________\n",
            " Layer (type)                Output Shape              Param #   \n",
            "=================================================================\n",
            " lstm (LSTM)                 (None, 100, 50)           10400     \n",
            "                                                                 \n",
            " lstm_1 (LSTM)               (None, 100, 50)           20200     \n",
            "                                                                 \n",
            " lstm_2 (LSTM)               (None, 50)                20200     \n",
            "                                                                 \n",
            " dense (Dense)               (None, 1)                 51        \n",
            "                                                                 \n",
            "=================================================================\n",
            "Total params: 50851 (198.64 KB)\n",
            "Trainable params: 50851 (198.64 KB)\n",
            "Non-trainable params: 0 (0.00 Byte)\n",
            "_________________________________________________________________\n"
          ]
        }
      ],
      "source": [
        "model.summary()"
      ]
    },
    {
      "cell_type": "code",
      "execution_count": 32,
      "metadata": {
        "id": "BxzH1O4o9D8G"
      },
      "outputs": [],
      "source": []
    },
    {
      "cell_type": "code",
      "execution_count": 34,
      "metadata": {
        "colab": {
          "base_uri": "https://localhost:8080/"
        },
        "id": "JvZFVBln9D8G",
        "outputId": "542e3f5c-cc1d-4dd2-cc5d-ccf09ebccb8d"
      },
      "outputs": [
        {
          "output_type": "stream",
          "name": "stdout",
          "text": [
            "Epoch 1/25\n",
            "111/111 [==============================] - 21s 191ms/step - loss: 4.5037e-07 - val_loss: 0.0057\n",
            "Epoch 2/25\n",
            "111/111 [==============================] - 25s 223ms/step - loss: 4.2503e-07 - val_loss: 0.0042\n",
            "Epoch 3/25\n",
            "111/111 [==============================] - 21s 191ms/step - loss: 5.2696e-07 - val_loss: 0.0031\n",
            "Epoch 4/25\n",
            "111/111 [==============================] - 22s 195ms/step - loss: 3.9512e-07 - val_loss: 0.0065\n",
            "Epoch 5/25\n",
            "111/111 [==============================] - 22s 198ms/step - loss: 3.9784e-07 - val_loss: 0.0030\n",
            "Epoch 6/25\n",
            "111/111 [==============================] - 21s 186ms/step - loss: 3.8075e-07 - val_loss: 0.0047\n",
            "Epoch 7/25\n",
            "111/111 [==============================] - 22s 203ms/step - loss: 4.7307e-07 - val_loss: 0.0033\n",
            "Epoch 8/25\n",
            "111/111 [==============================] - 23s 209ms/step - loss: 3.2974e-07 - val_loss: 0.0035\n",
            "Epoch 9/25\n",
            "111/111 [==============================] - 21s 189ms/step - loss: 3.4870e-07 - val_loss: 0.0034\n",
            "Epoch 10/25\n",
            "111/111 [==============================] - 27s 240ms/step - loss: 4.1795e-07 - val_loss: 0.0044\n",
            "Epoch 11/25\n",
            "111/111 [==============================] - 23s 211ms/step - loss: 3.1667e-07 - val_loss: 0.0053\n",
            "Epoch 12/25\n",
            "111/111 [==============================] - 21s 190ms/step - loss: 2.5847e-07 - val_loss: 0.0019\n",
            "Epoch 13/25\n",
            "111/111 [==============================] - 23s 207ms/step - loss: 3.5024e-07 - val_loss: 0.0024\n",
            "Epoch 14/25\n",
            "111/111 [==============================] - 24s 215ms/step - loss: 2.7700e-07 - val_loss: 0.0042\n",
            "Epoch 15/25\n",
            "111/111 [==============================] - 24s 214ms/step - loss: 2.3435e-07 - val_loss: 0.0038\n",
            "Epoch 16/25\n",
            "111/111 [==============================] - 22s 201ms/step - loss: 3.4546e-07 - val_loss: 0.0031\n",
            "Epoch 17/25\n",
            "111/111 [==============================] - 23s 211ms/step - loss: 2.7398e-07 - val_loss: 0.0029\n",
            "Epoch 18/25\n",
            "111/111 [==============================] - 21s 191ms/step - loss: 3.3103e-07 - val_loss: 0.0033\n",
            "Epoch 19/25\n",
            "111/111 [==============================] - 23s 204ms/step - loss: 1.9541e-07 - val_loss: 0.0035\n",
            "Epoch 20/25\n",
            "111/111 [==============================] - 22s 201ms/step - loss: 2.1296e-07 - val_loss: 0.0034\n",
            "Epoch 21/25\n",
            "111/111 [==============================] - 23s 206ms/step - loss: 1.9509e-07 - val_loss: 0.0033\n",
            "Epoch 22/25\n",
            "111/111 [==============================] - 23s 206ms/step - loss: 2.1104e-07 - val_loss: 0.0030\n",
            "Epoch 23/25\n",
            "111/111 [==============================] - 22s 196ms/step - loss: 1.8944e-07 - val_loss: 0.0040\n",
            "Epoch 24/25\n",
            "111/111 [==============================] - 22s 196ms/step - loss: 2.2861e-07 - val_loss: 0.0035\n",
            "Epoch 25/25\n",
            "111/111 [==============================] - 22s 201ms/step - loss: 3.1414e-07 - val_loss: 0.0027\n"
          ]
        },
        {
          "output_type": "execute_result",
          "data": {
            "text/plain": [
              "<keras.src.callbacks.History at 0x79cdd0f575e0>"
            ]
          },
          "metadata": {},
          "execution_count": 34
        }
      ],
      "source": [
        "model.fit(X_train,y_train,validation_data=(X_test,ytest),epochs=25,batch_size=64,verbose=1)"
      ]
    },
    {
      "cell_type": "code",
      "execution_count": 35,
      "metadata": {
        "id": "TPKaW8TU9D8H"
      },
      "outputs": [],
      "source": [
        "import tensorflow as tf"
      ]
    },
    {
      "cell_type": "code",
      "execution_count": 36,
      "metadata": {
        "colab": {
          "base_uri": "https://localhost:8080/",
          "height": 35
        },
        "id": "K9flRqbH9D8H",
        "outputId": "d9007254-9b9f-4a9a-e0d3-538f39a32d6f"
      },
      "outputs": [
        {
          "output_type": "execute_result",
          "data": {
            "text/plain": [
              "'2.15.0'"
            ],
            "application/vnd.google.colaboratory.intrinsic+json": {
              "type": "string"
            }
          },
          "metadata": {},
          "execution_count": 36
        }
      ],
      "source": [
        "tf.__version__"
      ]
    },
    {
      "cell_type": "code",
      "execution_count": 37,
      "metadata": {
        "colab": {
          "base_uri": "https://localhost:8080/"
        },
        "id": "NUvgCb1S9D8H",
        "outputId": "1d951d8c-58c2-4b01-fd2b-35abfc2bf179"
      },
      "outputs": [
        {
          "output_type": "stream",
          "name": "stdout",
          "text": [
            "221/221 [==============================] - 9s 36ms/step\n",
            "118/118 [==============================] - 5s 44ms/step\n"
          ]
        }
      ],
      "source": [
        "### Lets Do the prediction and check performance metrics\n",
        "train_predict=model.predict(X_train)\n",
        "test_predict=model.predict(X_test)"
      ]
    },
    {
      "cell_type": "code",
      "execution_count": 38,
      "metadata": {
        "id": "-cIttQeY9D8H"
      },
      "outputs": [],
      "source": [
        "##Transformback to original form\n",
        "train_predict=scaler.inverse_transform(train_predict)\n",
        "test_predict=scaler.inverse_transform(test_predict)"
      ]
    },
    {
      "cell_type": "code",
      "execution_count": 39,
      "metadata": {
        "colab": {
          "base_uri": "https://localhost:8080/"
        },
        "id": "eKvmDA_n9D8H",
        "outputId": "64dd49a5-51a6-412b-fd61-ebfc48deedd9"
      },
      "outputs": [
        {
          "output_type": "execute_result",
          "data": {
            "text/plain": [
              "1.613273008440607"
            ]
          },
          "metadata": {},
          "execution_count": 39
        }
      ],
      "source": [
        "### Calculate RMSE performance metrics\n",
        "import math\n",
        "from sklearn.metrics import mean_squared_error\n",
        "math.sqrt(mean_squared_error(y_train,train_predict))"
      ]
    },
    {
      "cell_type": "code",
      "execution_count": 40,
      "metadata": {
        "colab": {
          "base_uri": "https://localhost:8080/"
        },
        "id": "toNUCw5P9D8H",
        "outputId": "47059c06-3d00-4db8-ea1b-bb7ec3e8566e"
      },
      "outputs": [
        {
          "output_type": "execute_result",
          "data": {
            "text/plain": [
              "76.05929213265382"
            ]
          },
          "metadata": {},
          "execution_count": 40
        }
      ],
      "source": [
        "### Test Data RMSE\n",
        "math.sqrt(mean_squared_error(ytest,test_predict))"
      ]
    },
    {
      "cell_type": "code",
      "execution_count": 41,
      "metadata": {
        "colab": {
          "base_uri": "https://localhost:8080/",
          "height": 430
        },
        "id": "UCNK2FiC9D8H",
        "outputId": "1649460b-c924-45e0-c236-16154a8787cb"
      },
      "outputs": [
        {
          "output_type": "display_data",
          "data": {
            "text/plain": [
              "<Figure size 640x480 with 1 Axes>"
            ],
            "image/png": "[encoded data removed]"
          },
          "metadata": {}
        }
      ],
      "source": [
        "### Plotting\n",
        "# shift train predictions for plotting\n",
        "look_back=100\n",
        "trainPredictPlot = numpy.empty_like(df1)\n",
        "trainPredictPlot[:, :] = np.nan\n",
        "trainPredictPlot[look_back:len(train_predict)+look_back, :] = train_predict\n",
        "# shift test predictions for plotting\n",
        "testPredictPlot = numpy.empty_like(df1)\n",
        "testPredictPlot[:, :] = numpy.nan\n",
        "testPredictPlot[len(train_predict)+(look_back*2)+1:len(df1)-1, :] = test_predict\n",
        "# plot baseline and predictions\n",
        "plt.plot(scaler.inverse_transform(df1))\n",
        "plt.plot(trainPredictPlot)\n",
        "plt.plot(testPredictPlot)\n",
        "plt.show()"
      ]
    },
    {
      "cell_type": "code",
      "execution_count": 42,
      "metadata": {
        "colab": {
          "base_uri": "https://localhost:8080/"
        },
        "id": "8YXCK8qd9D8I",
        "outputId": "66b8550e-ba68-418d-9bd0-9bdae85961cc"
      },
      "outputs": [
        {
          "output_type": "execute_result",
          "data": {
            "text/plain": [
              "3849"
            ]
          },
          "metadata": {},
          "execution_count": 42
        }
      ],
      "source": [
        "len(test_data)"
      ]
    },
    {
      "cell_type": "code",
      "execution_count": 43,
      "metadata": {
        "colab": {
          "base_uri": "https://localhost:8080/"
        },
        "id": "hU-1Ergr9D8I",
        "outputId": "c25a9f90-1680-418e-8e02-a04dae22deb4"
      },
      "outputs": [
        {
          "output_type": "execute_result",
          "data": {
            "text/plain": [
              "(1, 3508)"
            ]
          },
          "metadata": {},
          "execution_count": 43
        }
      ],
      "source": [
        "x_input=test_data[341:].reshape(1,-1)\n",
        "x_input.shape\n"
      ]
    },
    {
      "cell_type": "code",
      "execution_count": 43,
      "metadata": {
        "id": "ED2gC1BS9D8I"
      },
      "outputs": [],
      "source": []
    },
    {
      "cell_type": "code",
      "execution_count": 43,
      "metadata": {
        "id": "QPHmPBik9D8I"
      },
      "outputs": [],
      "source": []
    },
    {
      "cell_type": "code",
      "execution_count": 44,
      "metadata": {
        "id": "b4Ja5Rty9D8J"
      },
      "outputs": [],
      "source": [
        "temp_input=list(x_input)\n",
        "temp_input=temp_input[0].tolist()"
      ]
    },
    {
      "cell_type": "code",
      "execution_count": 45,
      "metadata": {
        "colab": {
          "base_uri": "https://localhost:8080/"
        },
        "id": "NmXL9CQO9D8J",
        "outputId": "4cb70dc5-a432-4b98-b194-93d3bff76a9d"
      },
      "outputs": [
        {
          "output_type": "execute_result",
          "data": {
            "text/plain": [
              "[0.03812151340374833,\n",
              " 0.038288845496701536,\n",
              " 0.03780357308419513,\n",
              " 0.03776706249134043,\n",
              " 0.037182905192111516,\n",
              " 0.03628993928369181,\n",
              " 0.03674022440912018,\n",
              " 0.03634318186719721,\n",
              " 0.036547028615153854,\n",
              " 0.03668089672680567,\n",
              " 0.03677217320894241,\n",
              " 0.03787202841472331,\n",
              " 0.03815193483564517,\n",
              " 0.03915595582840559,\n",
              " 0.03900991751913556,\n",
              " 0.0397872706123308,\n",
              " 0.03981008770179061,\n",
              " 0.039861811041668097,\n",
              " 0.040414019541074785,\n",
              " 0.0405691854985585,\n",
              " 0.04089777270995329,\n",
              " 0.04186375980408238,\n",
              " 0.04168121496410638,\n",
              " 0.04287690844505649,\n",
              " 0.042959053216830814,\n",
              " 0.043564508361891637,\n",
              " 0.04374249140883517,\n",
              " 0.04425971262116381,\n",
              " 0.044083248817848183,\n",
              " 0.04342911694446318,\n",
              " 0.04350669992320503,\n",
              " 0.042956014729575,\n",
              " 0.04276889997226905,\n",
              " 0.04217866163637976,\n",
              " 0.04374553802038847,\n",
              " 0.043783563794722334,\n",
              " 0.043788129649903536,\n",
              " 0.04452592960083952,\n",
              " 0.044722167944210404,\n",
              " 0.045205925175237645,\n",
              " 0.045449325065453544,\n",
              " 0.04577943558262497,\n",
              " 0.04767033332284726,\n",
              " 0.048166260751492725,\n",
              " 0.04687168238382011,\n",
              " 0.047029890890708394,\n",
              " 0.046876248239001314,\n",
              " 0.04656439301825724,\n",
              " 0.046772801559246346,\n",
              " 0.04665262695098941,\n",
              " 0.04661915890753928,\n",
              " 0.04622515891502087,\n",
              " 0.045577108078296236,\n",
              " 0.0460639037965793,\n",
              " 0.04685190378161612,\n",
              " 0.04737521415490261,\n",
              " 0.04820733313737988,\n",
              " 0.04803390782132008,\n",
              " 0.04826057572088529,\n",
              " 0.0478741800708039,\n",
              " 0.0481708225445252,\n",
              " 0.04796089475990818,\n",
              " 0.04664958033943612,\n",
              " 0.046498980237133614,\n",
              " 0.045669903804060885,\n",
              " 0.045504090954735586,\n",
              " 0.04671043132752728,\n",
              " 0.04645182275243734,\n",
              " 0.047460405538230235,\n",
              " 0.04675606550644691,\n",
              " 0.04767946097106092,\n",
              " 0.04770988646510651,\n",
              " 0.047994358741209574,\n",
              " 0.04712420992224969,\n",
              " 0.047922860861276825,\n",
              " 0.04818907784095254,\n",
              " 0.04808106936816511,\n",
              " 0.048493328719259605,\n",
              " 0.048198205489166215,\n",
              " 0.04862415021935812,\n",
              " 0.04843399697479634,\n",
              " 0.04855569488882993,\n",
              " 0.048724550287559794,\n",
              " 0.04851462250294277,\n",
              " 0.04852527345693309,\n",
              " 0.04866066081221281,\n",
              " 0.04856330329341569,\n",
              " 0.04880669912148286,\n",
              " 0.04910942669401327,\n",
              " 0.04925546500328331,\n",
              " 0.04901815427402526,\n",
              " 0.04918244381757392,\n",
              " 0.04930262655012833,\n",
              " 0.049275243605487296,\n",
              " 0.049027281922238944,\n",
              " 0.04885994576713699,\n",
              " 0.04992633292946776,\n",
              " 0.050187988116111006,\n",
              " 0.05060023934290803,\n",
              " 0.05055917101916959,\n",
              " 0.05092274551764243,\n",
              " 0.051885690062366964,\n",
              " 0.051762472904705474,\n",
              " 0.05218537102334408,\n",
              " 0.05237704757368249,\n",
              " 0.05280299636602313,\n",
              " 0.05161186467810549,\n",
              " 0.051336524112364834,\n",
              " 0.05039943920650468,\n",
              " 0.04949277979469009,\n",
              " 0.05112507302197116,\n",
              " 0.05172595824970204,\n",
              " 0.05209866445853728,\n",
              " 0.052001302877591436,\n",
              " 0.05091969890608913,\n",
              " 0.051409541235925484,\n",
              " 0.05227817081125746,\n",
              " 0.05217016233847003,\n",
              " 0.05203629016466948,\n",
              " 0.05250179209926937,\n",
              " 0.05332022164050051,\n",
              " 0.053825268593062185,\n",
              " 0.05427555778063928,\n",
              " 0.0537248685248605,\n",
              " 0.05407627688786384,\n",
              " 0.054430723738122994,\n",
              " 0.05454025145453834,\n",
              " 0.05503161709015134,\n",
              " 0.054296855626471185,\n",
              " 0.05311941744194842,\n",
              " 0.05130153276313805,\n",
              " 0.05191155376338008,\n",
              " 0.05195110284349059,\n",
              " 0.05275431963769895,\n",
              " 0.053522545082680506,\n",
              " 0.05292926013523792,\n",
              " 0.05335672817120646,\n",
              " 0.054488532176809594,\n",
              " 0.05455546826370987,\n",
              " 0.05384961305044737,\n",
              " 0.0539104599763898,\n",
              " 0.05340997075471186,\n",
              " 0.05252765173813374,\n",
              " 0.05333694956900247,\n",
              " 0.0535757876661859,\n",
              " 0.05233902179934862,\n",
              " 0.049993264954219296,\n",
              " 0.05069760498600261,\n",
              " 0.05009366908456971,\n",
              " 0.051406498686520925,\n",
              " 0.05169553275565647,\n",
              " 0.05138976669587023,\n",
              " 0.052269043163043795,\n",
              " 0.05326849830062301,\n",
              " 0.05310115808337233,\n",
              " 0.053180264367890834,\n",
              " 0.052825813455482935,\n",
              " 0.052807562221204335,\n",
              " 0.05220666886917598,\n",
              " 0.05169401351202855,\n",
              " 0.05134412845480186,\n",
              " 0.05121482213618252,\n",
              " 0.05122091129714037,\n",
              " 0.050761494461349595,\n",
              " 0.05011344768677369,\n",
              " 0.050356847576989605,\n",
              " 0.05092426882341908,\n",
              " 0.05035988606424543,\n",
              " 0.049605350060510006,\n",
              " 0.050273175437289895,\n",
              " 0.051187443253690235,\n",
              " 0.05187960496355785,\n",
              " 0.053140711225631576,\n",
              " 0.053492119588634916,\n",
              " 0.05309811959611651,\n",
              " 0.05305704314808061,\n",
              " 0.05253982599790071,\n",
              " 0.05305400466082479,\n",
              " 0.05246832405581922,\n",
              " 0.052760400674359324,\n",
              " 0.05296881327749717,\n",
              " 0.05253982599790071,\n",
              " 0.05252613249450583,\n",
              " 0.052669128254371325,\n",
              " 0.05295055798106982,\n",
              " 0.052612839059312626,\n",
              " 0.05251243899111095,\n",
              " 0.05158904758864567,\n",
              " 0.05049375417589724,\n",
              " 0.050925788067046986,\n",
              " 0.05149320931347646,\n",
              " 0.051593613443826875,\n",
              " 0.050785834856586054,\n",
              " 0.050661090330999185,\n",
              " 0.05032489877716737,\n",
              " 0.05102314558584411,\n",
              " 0.05075236681313592,\n",
              " 0.05111898386101331,\n",
              " 0.05270411554144937,\n",
              " 0.05235118793481812,\n",
              " 0.05244094111117821,\n",
              " 0.05203629016466948,\n",
              " 0.05121482213618252,\n",
              " 0.05030207762555882,\n",
              " 0.050332503119604396,\n",
              " 0.05021841361015658,\n",
              " 0.04936803933125195,\n",
              " 0.04947452449826275,\n",
              " 0.05036292861364998,\n",
              " 0.0494973456498713,\n",
              " 0.04925546500328331,\n",
              " 0.04851005664776156,\n",
              " 0.047758567255579434,\n",
              " 0.04927676284911521,\n",
              " 0.04886755010957401,\n",
              " 0.05017886046789734,\n",
              " 0.04943649466178014,\n",
              " 0.05030207762555882,\n",
              " 0.050791915893246435,\n",
              " 0.05060632850386587,\n",
              " 0.05085428612496551,\n",
              " 0.05200891128217719,\n",
              " 0.05294751543166526,\n",
              " 0.05330196228192442,\n",
              " 0.05412951947136924,\n",
              " 0.0545113492662694,\n",
              " 0.05364271969093744,\n",
              " 0.053604693916603566,\n",
              " 0.054254263996956105,\n",
              " 0.05421623009832476,\n",
              " 0.05530391510648744,\n",
              " 0.056654778607070015,\n",
              " 0.05711875723589325,\n",
              " 0.058647599721270614,\n",
              " 0.05870693146573386,\n",
              " 0.05962119521998547,\n",
              " 0.06041224181657558,\n",
              " 0.061159169415725245,\n",
              " 0.05951318674719803,\n",
              " 0.05939605062619691,\n",
              " 0.05919220387824028,\n",
              " 0.06014602483689987,\n",
              " 0.05895336984320558,\n",
              " 0.05951014419779347,\n",
              " 0.057197859458263015,\n",
              " 0.05662739160028025,\n",
              " 0.053522545082680506,\n",
              " 0.056686723344743485,\n",
              " 0.05511680441133023,\n",
              " 0.05663956586004721,\n",
              " 0.057140055081725157,\n",
              " 0.058116689067695834,\n",
              " 0.057670961673151194,\n",
              " 0.05766488063649082,\n",
              " 0.055475813054621854,\n",
              " 0.05395153236227697,\n",
              " 0.05401390259399603,\n",
              " 0.056624353113024425,\n",
              " 0.057016833861914924,\n",
              " 0.05664260840945177,\n",
              " 0.058142552768708944,\n",
              " 0.05911462089949841,\n",
              " 0.05911766344890297,\n",
              " 0.05833270601327071,\n",
              " 0.05775463381285091,\n",
              " 0.05669280844355261,\n",
              " 0.05755839546948003,\n",
              " 0.058195795352214336,\n",
              " 0.058227740089887826,\n",
              " 0.05721459551106245,\n",
              " 0.05758882096352561,\n",
              " 0.058300761275597225,\n",
              " 0.059012697525520096,\n",
              " 0.05956947188010798,\n",
              " 0.06071648457058517,\n",
              " 0.062409624723808656,\n",
              " 0.06268649265747468,\n",
              " 0.062487211764699256,\n",
              " 0.060917288769137254,\n",
              " 0.0612945608331537,\n",
              " 0.061122658822870546,\n",
              " 0.06052785463180005,\n",
              " 0.06018557797915912,\n",
              " 0.059205897381635154,\n",
              " 0.05779874874814262,\n",
              " 0.05677647245895484,\n",
              " 0.05645701289577374,\n",
              " 0.057331731632063565,\n",
              " 0.057197859458263015,\n",
              " 0.05604628091260463,\n",
              " 0.05893815709618279,\n",
              " 0.06068453983291168,\n",
              " 0.060973577964195946,\n",
              " 0.061922833067674335,\n",
              " 0.06398715612395642,\n",
              " 0.06368138600202145,\n",
              " 0.06402366265466239,\n",
              " 0.06043049711300294,\n",
              " 0.05992696127977169,\n",
              " 0.0595557783767131,\n",
              " 0.061518182121165596,\n",
              " 0.060301186732234856,\n",
              " 0.0607317013797567,\n",
              " 0.06135388445331948,\n",
              " 0.06139343759557872,\n",
              " 0.06136757795671435,\n",
              " 0.06010951018189644,\n",
              " 0.06024642490510154,\n",
              " 0.061107446075847754,\n",
              " 0.06067693549047464,\n",
              " 0.060599348449584055,\n",
              " 0.06158815669532171,\n",
              " 0.05992239948673922,\n",
              " 0.058392033695585224,\n",
              " 0.058300761275597225,\n",
              " 0.05748537428377063,\n",
              " 0.05894120370773608,\n",
              " 0.05832357836505703,\n",
              " 0.05720394455707213,\n",
              " 0.05682819579883233,\n",
              " 0.05592610630434769,\n",
              " 0.057067033896015765,\n",
              " 0.05561881287663607,\n",
              " 0.05509854911490288,\n",
              " 0.057007702151552514,\n",
              " 0.05656350212493327,\n",
              " 0.057932616859794436,\n",
              " 0.05880428898453098,\n",
              " 0.05907354851361125,\n",
              " 0.05957707622254501,\n",
              " 0.059263701758173006,\n",
              " 0.0589807527878466,\n",
              " 0.059219586822881295,\n",
              " 0.05966987194830966,\n",
              " 0.05939909317560148,\n",
              " 0.05893815709618279,\n",
              " 0.05762684673785948,\n",
              " 0.05743669349329771,\n",
              " 0.057753110507074254,\n",
              " 0.057934140165571094,\n",
              " 0.06002432286071755,\n",
              " 0.060100386595831494,\n",
              " 0.06041984615901261,\n",
              " 0.06114699921810701,\n",
              " 0.06163379493639007,\n",
              " 0.06104203329472413,\n",
              " 0.0614192972344431,\n",
              " 0.061401046000164494,\n",
              " 0.06234877779786623,\n",
              " 0.06268496935169804,\n",
              " 0.0633832202225235,\n",
              " 0.06404800304989883,\n",
              " 0.06394607967592052,\n",
              " 0.06417578606274153,\n",
              " 0.06407082013935866,\n",
              " 0.06389435633604304,\n",
              " 0.06365399899523168,\n",
              " 0.06439788810712553,\n",
              " 0.06506875603330997,\n",
              " 0.06486186673594878,\n",
              " 0.06372853942456899,\n",
              " 0.06481014339607129,\n",
              " 0.06374527547736843,\n",
              " 0.06773853017250414,\n",
              " 0.06742972156331335,\n",
              " 0.06783284920404545,\n",
              " 0.06870451726663324,\n",
              " 0.06923238537080346,\n",
              " 0.06918827043551173,\n",
              " 0.069025500135591,\n",
              " 0.06971918515123526,\n",
              " 0.07037179371884361,\n",
              " 0.07111112103770499,\n",
              " 0.07230529527502719,\n",
              " 0.07481381835792852,\n",
              " 0.07485184819441112,\n",
              " 0.07624834993606207,\n",
              " 0.07729191594678428,\n",
              " 0.07549837978750785,\n",
              " 0.07618901819159882,\n",
              " 0.07617532875035267,\n",
              " 0.07811186879379206,\n",
              " 0.07783652010375393,\n",
              " 0.07834613291149682,\n",
              " 0.07926191997152505,\n",
              " 0.07977154090356542,\n",
              " 0.08123953646300036,\n",
              " 0.08230896211258695,\n",
              " 0.08261777478392647,\n",
              " 0.08272578731886267,\n",
              " 0.08089725981035943,\n",
              " 0.08045609420884728,\n",
              " 0.08052151105211965,\n",
              " 0.08224051490635625,\n",
              " 0.08272426807523474,\n",
              " 0.08376327635507323,\n",
              " 0.08621246769351132,\n",
              " 0.08948009263532929,\n",
              " 0.08886855239145934,\n",
              " 0.08887007163508726,\n",
              " 0.09123256047086728,\n",
              " 0.09197188778972865,\n",
              " 0.09144553080488886,\n",
              " 0.09096482424756365,\n",
              " 0.09046433502588572,\n",
              " 0.09212704562291489,\n",
              " 0.09326798133888044,\n",
              " 0.0937456494089498,\n",
              " 0.09256516461287376,\n",
              " 0.09099676898523715,\n",
              " 0.09389929612280563,\n",
              " 0.09552549612698011,\n",
              " 0.09476335578080765,\n",
              " 0.09618876377287626,\n",
              " 0.09657667460443682,\n",
              " 0.09539163207747703,\n",
              " 0.095050874668464,\n",
              " 0.09452908353880544,\n",
              " 0.09186082864323918,\n",
              " 0.08804252256993991,\n",
              " 0.0925408242176373,\n",
              " 0.09233393898242483,\n",
              " 0.0891545439111903,\n",
              " 0.08695483349962851,\n",
              " 0.0867601103377368,\n",
              " 0.08502285931137034,\n",
              " 0.09258645839655692,\n",
              " 0.09223657740147899,\n",
              " 0.09152159047785408,\n",
              " 0.08862819505064799,\n",
              " 0.08834676938609823,\n",
              " 0.08893244186680632,\n",
              " 0.08829960783925321,\n",
              " 0.08577891455873365,\n",
              " 0.08642239954027708,\n",
              " 0.08622463789112954,\n",
              " 0.08637675723705997,\n",
              " 0.08658060398501662,\n",
              " 0.08600101660311764,\n",
              " 0.08470948078484959,\n",
              " 0.083941255339868,\n",
              " 0.08286269797991903,\n",
              " 0.08043480042516409,\n",
              " 0.08047434950527461,\n",
              " 0.08517497865730074,\n",
              " 0.08451933160243656,\n",
              " 0.0865866972081232,\n",
              " 0.08578956551272397,\n",
              " 0.08532862537115654,\n",
              " 0.08684682096469233,\n",
              " 0.08789648019852113,\n",
              " 0.08767742476569043,\n",
              " 0.08513086372200902,\n",
              " 0.08563287218731486,\n",
              " 0.08541077014293086,\n",
              " 0.08672360786917958,\n",
              " 0.08676315694929009,\n",
              " 0.08807142069606011,\n",
              " 0.08667949293388785,\n",
              " 0.087438586668507,\n",
              " 0.08683009303619037,\n",
              " 0.08673425069887243,\n",
              " 0.08712977399716748,\n",
              " 0.08890201637276074,\n",
              " 0.08914998618030658,\n",
              " 0.08889593939824911,\n",
              " 0.087668293055328,\n",
              " 0.08834220353091703,\n",
              " 0.08661864194579669,\n",
              " 0.0868103184961351,\n",
              " 0.08718605913007743,\n",
              " 0.0863569826970047,\n",
              " 0.0886312416622013,\n",
              " 0.0899273352113531,\n",
              " 0.09097546707725648,\n",
              " 0.09257733481049199,\n",
              " 0.09195970946781294,\n",
              " 0.0931782241003716,\n",
              " 0.09231416444236959,\n",
              " 0.09173913479135433,\n",
              " 0.0908978881606634,\n",
              " 0.09182127956312866,\n",
              " 0.09211640279322206,\n",
              " 0.09212096864840326,\n",
              " 0.09201752196864828,\n",
              " 0.09324364094364397,\n",
              " 0.09171936025129908,\n",
              " 0.09164785830921761,\n",
              " 0.091205181588375,\n",
              " 0.08725756107215892,\n",
              " 0.08724387163091277,\n",
              " 0.08880770140336817,\n",
              " 0.090309169068402,\n",
              " 0.09270207527393012,\n",
              " 0.0921011859840505,\n",
              " 0.09225026684272512,\n",
              " 0.09345357279040972,\n",
              " 0.09449561955750402,\n",
              " 0.09424613863062778,\n",
              " 0.09408640681796283,\n",
              " 0.094218751623838,\n",
              " 0.09436631323888471,\n",
              " 0.09562894280673508,\n",
              " 0.09588602807604837,\n",
              " 0.09575520251380112,\n",
              " 0.09659341065723626,\n",
              " 0.09838390832925686,\n",
              " 0.10097610355185792,\n",
              " 0.09959329125145312,\n",
              " 0.10154200149251075,\n",
              " 0.10059275045118109,\n",
              " 0.10068249956539245,\n",
              " 0.10257797128509341,\n",
              " 0.10244409911129286,\n",
              " 0.10224177160696413,\n",
              " 0.1007813803899662,\n",
              " 0.10098979299310405,\n",
              " 0.10246995875015723,\n",
              " 0.10174889485202068,\n",
              " 0.10266772039930476,\n",
              " 0.10330208179478327,\n",
              " 0.10060948650398055,\n",
              " 0.10028241853621365,\n",
              " 0.10168195064082296,\n",
              " 0.1036884733827159,\n",
              " 0.10495110295056628,\n",
              " 0.10624415801246224,\n",
              " 0.10656817936867581,\n",
              " 0.10659708561909349,\n",
              " 0.10607986034461614,\n",
              " 0.10629131143500979,\n",
              " 0.10487655439693153,\n",
              " 0.10225242256095445,\n",
              " 0.10098066940703912,\n",
              " 0.10343594584428632,\n",
              " 0.10127274602557922,\n",
              " 0.10009986557194017,\n",
              " 0.10039194219048027,\n",
              " 0.10193447817925251,\n",
              " 0.1012271037223621,\n",
              " 0.0990654231472829,\n",
              " 0.0968717978345302,\n",
              " 0.09651887022789896,\n",
              " 0.09728861491650843,\n",
              " 0.09533990467545081,\n",
              " 0.09558482787144336,\n",
              " 0.09635305331642492,\n",
              " 0.09863947435494226,\n",
              " 0.09785147436990545,\n",
              " 0.09603055120383926,\n",
              " 0.09256212612561794,\n",
              " 0.09624200229423292,\n",
              " 0.09309759857222519,\n",
              " 0.09362546667639542,\n",
              " 0.09251648382240084,\n",
              " 0.09167371794808196,\n",
              " 0.0903532840036937,\n",
              " 0.09053887545522302,\n",
              " 0.08753594824945286,\n",
              " 0.08872555663159386,\n",
              " 0.08845629304036484,\n",
              " 0.08467601680354818,\n",
              " 0.08159550255688743,\n",
              " 0.08301177883859362,\n",
              " 0.0823682938570502,\n",
              " 0.08237894481104054,\n",
              " 0.08146315775101226,\n",
              " 0.07975023899558478,\n",
              " 0.08006361752210553,\n",
              " 0.08585193574444304,\n",
              " 0.08511869352439078,\n",
              " 0.08523887625694519,\n",
              " 0.08672968484369122,\n",
              " 0.08947248829289225,\n",
              " 0.08874989702683034,\n",
              " 0.08846999060590846,\n",
              " 0.0894466205297304,\n",
              " 0.08882595669979552,\n",
              " 0.0889643866044798,\n",
              " 0.08739142512166198,\n",
              " 0.08175371512592444,\n",
              " 0.0830391658453834,\n",
              " 0.08091094925160558,\n",
              " 0.08038916624624447,\n",
              " 0.0821492384242195,\n",
              " 0.08178565986359794,\n",
              " 0.08036938358189175,\n",
              " 0.07734211598088511,\n",
              " 0.0787173158145554,\n",
              " 0.08100983007617935,\n",
              " 0.07985520491896764,\n",
              " 0.07915848141606757,\n",
              " 0.07879338361181808,\n",
              " 0.07892116256251207,\n",
              " 0.07783043500494483,\n",
              " 0.07814381353146556,\n",
              " 0.07731169048683954,\n",
              " 0.08074665158375943,\n",
              " 0.08331145979957073,\n",
              " 0.0822572428348582,\n",
              " 0.07996017084235053,\n",
              " 0.07948858787109027,\n",
              " 0.07970307744873976,\n",
              " 0.07845414544643299,\n",
              " 0.0794292642509245,\n",
              " 0.07894094522686479,\n",
              " 0.07611904361744272,\n",
              " 0.07371092060274306,\n",
              " 0.07677925652748811,\n",
              " 0.07626051200938282,\n",
              " 0.075852826637767,\n",
              " 0.07657845639108476,\n",
              " 0.07798408171880063,\n",
              " 0.06832269153388179,\n",
              " 0.06670713029725142,\n",
              " 0.06822076409775474,\n",
              " 0.0695046874492883,\n",
              " 0.0692856320164576,\n",
              " 0.06908178526850095,\n",
              " 0.06879731299239789,\n",
              " 0.06707831320031002,\n",
              " 0.0694392787303134,\n",
              " 0.0693647383009761,\n",
              " 0.07101832531194034,\n",
              " 0.0720466826377885,\n",
              " 0.07279969127359853,\n",
              " 0.07096964452146741,\n",
              " 0.07083425310403896,\n",
              " 0.07077036362869198,\n",
              " 0.06979220633694465,\n",
              " 0.0697663385737828,\n",
              " 0.06807168323908014,\n",
              " 0.06764725369036739,\n",
              " 0.06836984495642934,\n",
              " 0.0671513343860194,\n",
              " 0.06808993853550749,\n",
              " 0.06742058985295095,\n",
              " 0.0669383599898491,\n",
              " 0.06527564533067118,\n",
              " 0.06369051365023512,\n",
              " 0.06537756464250076,\n",
              " 0.06454392641639557,\n",
              " 0.06529237732132187,\n",
              " 0.06546579857523295,\n",
              " 0.06640136017531645,\n",
              " 0.064965309353555,\n",
              " 0.06495313915593677,\n",
              " 0.06558445800201071,\n",
              " 0.06728215994826667,\n",
              " 0.06911677661772773,\n",
              " 0.06892966592257052,\n",
              " 0.06856304075039567,\n",
              " 0.06866192157496942,\n",
              " 0.07005842331662036,\n",
              " 0.07031247009867785,\n",
              " 0.06994128719561925,\n",
              " 0.06856304075039567,\n",
              " 0.06713003654018751,\n",
              " 0.0650383305392644,\n",
              " 0.06517219865091621,\n",
              " 0.06550687096112011,\n",
              " 0.06485730088076756,\n",
              " 0.06416970502608116,\n",
              " 0.06462759449394655,\n",
              " 0.06474473061494766,\n",
              " 0.06606973041451712,\n",
              " 0.06586284517930464,\n",
              " 0.06517372195669287,\n",
              " 0.06366008815618955,\n",
              " 0.06463216034912775,\n",
              " 0.06106636962781185,\n",
              " 0.0594310419754237,\n",
              " 0.05919981228282604,\n",
              " 0.06043809739329122,\n",
              " 0.06157294801044765,\n",
              " 0.061471020574320585,\n",
              " 0.061915224663088575,\n",
              " 0.06325695645330871,\n",
              " 0.06522240274716579,\n",
              " 0.06714828777446612,\n",
              " 0.06661737712089133,\n",
              " 0.06756511298074182,\n",
              " 0.06824358524936329,\n",
              " 0.06987587847664437,\n",
              " 0.06956401919375153,\n",
              " 0.07035201917878836,\n",
              " 0.06927650030609518,\n",
              " 0.06869843216782412,\n",
              " 0.06896768763475565,\n",
              " 0.06731258544231225,\n",
              " 0.06502919882890197,\n",
              " 0.06590087095363852,\n",
              " 0.06570006675508643,\n",
              " 0.06717110892607468,\n",
              " 0.0666736622538013,\n",
              " 0.06693075158526333,\n",
              " 0.067050930255669,\n",
              " 0.06750882378568311,\n",
              " 0.06694444102650947,\n",
              " 0.06747839829163754,\n",
              " 0.06848698107743045,\n",
              " 0.06820555541288069,\n",
              " 0.06835615551518319,\n",
              " 0.06814165781323622,\n",
              " 0.06750273868687401,\n",
              " 0.06649111335167654,\n",
              " 0.06700073022156816,\n",
              " 0.06655652613280018,\n",
              " 0.06636028372728055,\n",
              " 0.06553729645516569,\n",
              " 0.06611080280040428,\n",
              " 0.06521175179317547,\n",
              " 0.06550839020474802,\n",
              " 0.06547340291766997,\n",
              " 0.06413927953203558,\n",
              " 0.06320219462617542,\n",
              " 0.06269409699991171,\n",
              " 0.06102682054770134,\n",
              " 0.06104051405109622,\n",
              " 0.06034682903545196,\n",
              " 0.05969421234354612,\n",
              " 0.060112556793449734,\n",
              " 0.062043007675931273,\n",
              " 0.06345319479667962,\n",
              " 0.06380460315968295,\n",
              " 0.06329042449675885,\n",
              " 0.06292988848554185,\n",
              " 0.06404039870746181,\n",
              " 0.06379395220569262,\n",
              " 0.06479188809964394,\n",
              " 0.06467323273501491,\n",
              " 0.06481470518910376,\n",
              " 0.06523457294478402,\n",
              " 0.06525130087328597,\n",
              " 0.06547188367404205,\n",
              " 0.06443592200575687,\n",
              " 0.06464280724096934,\n",
              " 0.06352926259394229,\n",
              " 0.06680296857242063,\n",
              " 0.06649719845048567,\n",
              " 0.06687598975813003,\n",
              " 0.06791043218278729,\n",
              " 0.06875167881347825,\n",
              " 0.06863149608092385,\n",
              " 0.06926281086484903,\n",
              " 0.07015425752964083,\n",
              " 0.07120543600709754,\n",
              " 0.07056651688073533,\n",
              " 0.07052544043269943,\n",
              " 0.069921512655564,\n",
              " 0.06892357269946393,\n",
              " 0.07088749974969308,\n",
              " 0.07426617571370304,\n",
              " 0.0756246394945739,\n",
              " 0.07553488225606507,\n",
              " 0.07620727348802617,\n",
              " 0.07703026482228977,\n",
              " 0.07601559693768775,\n",
              " 0.07621183934320737,\n",
              " 0.07630310770104663,\n",
              " 0.07600799259525072,\n",
              " 0.07630463506897202,\n",
              " 0.07411708673073096,\n",
              " 0.07446849509373431,\n",
              " 0.07459019706991663,\n",
              " 0.0739086822518906,\n",
              " 0.07411556748710306,\n",
              " 0.07565353762069409,\n",
              " 0.0751332738589609,\n",
              " 0.07558204380291009,\n",
              " 0.07679142672510636,\n",
              " 0.07503743964594042,\n",
              " 0.07094074639534721,\n",
              " 0.07169832088633846,\n",
              " 0.0705132702350812,\n",
              " 0.06826487903304645,\n",
              " 0.06905592562963657,\n",
              " 0.0704798062537798,\n",
              " 0.0716389891418752,\n",
              " 0.07089510409213011,\n",
              " 0.07442894601362379,\n",
              " 0.07419467377162156,\n",
              " 0.07304309522596317,\n",
              " 0.0737565547816627,\n",
              " 0.07322868667749247,\n",
              " 0.0723159462290175,\n",
              " 0.0740212525177105,\n",
              " 0.07426464834577766,\n",
              " 0.07332908674569415,\n",
              " 0.07327128236915628,\n",
              " 0.07398930778003701,\n",
              " 0.07295334611175182,\n",
              " 0.07381283991457264,\n",
              " 0.07427681854339589,\n",
              " 0.07475905246864648,\n",
              " 0.075250409979962,\n",
              " 0.07565201837706619,\n",
              " 0.07602168203649687,\n",
              " 0.07653737994304886,\n",
              " 0.07720520531982875,\n",
              " 0.07910219628315762,\n",
              " 0.07887552838359242,\n",
              " 0.0796498389273831,\n",
              " 0.08070710250364893,\n",
              " 0.07980196639761102,\n",
              " 0.08039828983230941,\n",
              " 0.07839024784678854,\n",
              " 0.07964071534131816,\n",
              " 0.07930603490681679,\n",
              " 0.0788998687788289,\n",
              " 0.07992214100586793,\n",
              " 0.07972437935672042,\n",
              " 0.07903526019625735,\n",
              " 0.07775284796405424,\n",
              " 0.0789804943069753,\n",
              " 0.07875078792015429,\n",
              " 0.07889683029157307,\n",
              " 0.07899114526096562,\n",
              " 0.08013663870781491,\n",
              " 0.0796544047825643,\n",
              " 0.07868689032050984,\n",
              " 0.07882684759311952,\n",
              " 0.07813468182110314,\n",
              " 0.07906872417755875,\n",
              " 0.0788648774296021,\n",
              " 0.07946424747585379,\n",
              " 0.08093376227891666,\n",
              " 0.08284444268349167,\n",
              " 0.08438242094138018,\n",
              " 0.08364614023407212,\n",
              " 0.08594168485865439,\n",
              " 0.08574088472225104,\n",
              " 0.08618204219946575,\n",
              " 0.08498330210696232,\n",
              " 0.08595842091145382,\n",
              " 0.08582454873765329,\n",
              " 0.08518714885491897,\n",
              " 0.08506240839148083,\n",
              " 0.08413293189020643,\n",
              " 0.0845999490062855,\n",
              " 0.08421812327353406,\n",
              " 0.08357615753561855,\n",
              " 0.08261625554029857,\n",
              " 0.08330994055594283,\n",
              " 0.08651519526604172,\n",
              " 0.08614705897453642,\n",
              " 0.0855735485671491,\n",
              " 0.08499395306095264,\n",
              " 0.08414662133145259,\n",
              " 0.08513542957719024,\n",
              " 0.08393517024105891,\n",
              " 0.08208686819250044,\n",
              " 0.08253563001215215,\n",
              " 0.08194387243263494,\n",
              " 0.08246413619436815,\n",
              " 0.08140839186173024,\n",
              " 0.08086378770476056,\n",
              " 0.0812882172534733,\n",
              " 0.08290985952676404,\n",
              " 0.08457865522260233,\n",
              " 0.08410555300771415,\n",
              " 0.08203970664565542,\n",
              " 0.08331755302267733,\n",
              " 0.08368873592573592,\n",
              " 0.08439914886988215,\n",
              " 0.08286117873629112,\n",
              " 0.08353508108758265,\n",
              " 0.07684163488350465,\n",
              " 0.07596691614721482,\n",
              " 0.07581935453216813,\n",
              " 0.07594409499560627,\n",
              " 0.07608557151184385,\n",
              " 0.07718998851065724,\n",
              " 0.07776806477322576,\n",
              " 0.07775589457560753,\n",
              " 0.07884662213317475,\n",
              " 0.08026289841488093,\n",
              " 0.08132320860270008,\n",
              " 0.0813171153795935,\n",
              " 0.08261169780941484,\n",
              " 0.0825447535982171,\n",
              " 0.08284900853867289,\n",
              " 0.08153769818034956,\n",
              " 0.08059148562627574,\n",
              " 0.07969395386267482,\n",
              " 0.08004383485775278,\n",
              " 0.07920868145016842,\n",
              " 0.07849217528291559,\n",
              " 0.0800620982784776,\n",
              " 0.07984456208927483,\n",
              " 0.08007578771972373,\n",
              " 0.08060517506752188,\n",
              " 0.08077555783417711,\n",
              " 0.08053063463818458,\n",
              " 0.08048348121563703,\n",
              " 0.08055650240134642,\n",
              " 0.08134297501845786,\n",
              " 0.08142208130297635,\n",
              " 0.08051542595331053,\n",
              " 0.0796087706036447,\n",
              " 0.07992062176224002,\n",
              " 0.08062951546275834,\n",
              " 0.08060822167907516,\n",
              " 0.08021878347958923,\n",
              " 0.08085313675077026,\n",
              " 0.08181456611401561,\n",
              " 0.08269688106844499,\n",
              " 0.08190431522822696,\n",
              " 0.08155138762159571,\n",
              " 0.08146011113945897,\n",
              " 0.08144186396732911,\n",
              " 0.08218878750433004,\n",
              " 0.08232569816538639,\n",
              " 0.08175371512592444,\n",
              " 0.08069340493810531,\n",
              " 0.0794231710278179,\n",
              " 0.07941861329693417,\n",
              " 0.08046522591920968,\n",
              " 0.07942469839574329,\n",
              " 0.0788359793034819,\n",
              " 0.07915087707363055,\n",
              " 0.07858497100868024,\n",
              " 0.07874470282134517,\n",
              " 0.0796467923158298,\n",
              " 0.08059453223782903,\n",
              " 0.08067515776597543,\n",
              " 0.07961789418970962,\n",
              " 0.08616226765941047,\n",
              " 0.08679662905488898,\n",
              " 0.0901661733085365,\n",
              " 0.08989842896093542,\n",
              " 0.0895576715519224,\n",
              " 0.08976913076661354,\n",
              " 0.089936458797418,\n",
              " 0.09121125856288663,\n",
              " 0.09021485409900944,\n",
              " 0.08989842896093542,\n",
              " 0.08923821605089002,\n",
              " 0.08886551390420352,\n",
              " 0.08997449675819809,\n",
              " 0.0901159651501382,\n",
              " 0.09013270120293763,\n",
              " 0.08936447575795607,\n",
              " 0.0906864370702697,\n",
              " 0.0917634751865908,\n",
              " 0.09178173048301816,\n",
              " 0.09202512631108531,\n",
              " 0.09217116055820661,\n",
              " 0.0932147346932263,\n",
              " 0.09496416404150848,\n",
              " 0.09471772160188803,\n",
              " 0.09644736828581747,\n",
              " 0.09608531709312129,\n",
              " 0.09542357681515054,\n",
              " 0.09677595549721227,\n",
              " 0.09788341910757893,\n",
              " 0.09826829145188366,\n",
              " 0.09799750861702675,\n",
              " 0.09956895085621666,\n",
              " 0.10015463146122222,\n",
              " 0.0997393336228719,\n",
              " 0.09806749131548033,\n",
              " 0.09699197244278714,\n",
              " 0.09797164897816238,\n",
              " 0.09784387002746842,\n",
              " 0.0979503551944792,\n",
              " 0.09760959778546618,\n",
              " 0.09659797651241747,\n",
              " 0.09651278512908984,\n",
              " 0.09592710452408428,\n",
              " 0.09601229590741191,\n",
              " 0.09658732555842714,\n",
              " 0.09773738486045762,\n",
              " 0.09874900613350635,\n",
              " 0.09937727430587824,\n",
              " 0.09933468673851191,\n",
              " 0.09992035921921999,\n",
              " 0.10198620558127873,\n",
              " 0.10132598454693588,\n",
              " 0.10136858023859968,\n",
              " 0.1009958780919132,\n",
              " 0.10118755464225158,\n",
              " 0.10249733763264951,\n",
              " 0.10129403980926237,\n",
              " 0.10071901015824714,\n",
              " 0.09891938077586412,\n",
              " 0.10034630801156064,\n",
              " 0.09982452500619951,\n",
              " 0.10065512068290015,\n",
              " 0.1032853457419838,\n",
              " 0.10311496297532857,\n",
              " 0.1037964777933546,\n",
              " 0.10523404785874396,\n",
              " 0.10455253304071792,\n",
              " 0.10430761796902285,\n",
              " 0.1015922015266116,\n",
              " 0.10215658022363648,\n",
              " 0.10158155057262126,\n",
              " 0.1010810694752408,\n",
              " 0.10091068670858555,\n",
              " ...]"
            ]
          },
          "metadata": {},
          "execution_count": 45
        }
      ],
      "source": [
        "temp_input"
      ]
    },
    {
      "cell_type": "code",
      "execution_count": 47,
      "metadata": {
        "colab": {
          "base_uri": "https://localhost:8080/"
        },
        "id": "AZo1TOpf9D8J",
        "outputId": "300cbfc3-efe7-4d4e-d770-d7b861a52cb3"
      },
      "outputs": [
        {
          "output_type": "stream",
          "name": "stdout",
          "text": [
            "[[0.7548702359199524], [0.7468832731246948], [0.7337118983268738], [0.7164052128791809], [0.6964133381843567], [0.6750410795211792], [0.653270959854126], [0.6317611932754517], [0.610910177230835], [0.590932309627533], [0.5719245076179504], [0.5539143085479736], [0.5368919372558594], [0.5208296775817871], [0.505691409111023], [0.4914381802082062], [0.47802963852882385], [0.46542587876319885], [0.453586220741272], [0.4424704313278198], [0.43203797936439514], [0.42224884033203125], [0.4130634367465973], [0.40444302558898926], [0.39635008573532104], [0.38874807953834534], [0.3816021978855133], [0.37487950921058655], [0.3685484528541565], [0.3625795245170593]]\n"
          ]
        }
      ],
      "source": [
        "from numpy import array\n",
        "import numpy as np\n",
        "\n",
        "lst_output = []\n",
        "n_steps = 100\n",
        "i = 0\n",
        "\n",
        "while i < 30:\n",
        "    if len(temp_input) >= n_steps:\n",
        "        x_input = np.array(temp_input[-n_steps:])\n",
        "        x_input = x_input.reshape((1, n_steps, 1))\n",
        "        yhat = model.predict(x_input, verbose=0)\n",
        "        temp_input.extend(yhat[0].tolist())\n",
        "        temp_input = temp_input[-n_steps:]  # Keep only the last n_steps values\n",
        "        lst_output.extend(yhat.tolist())\n",
        "        i += 1\n",
        "    else:\n",
        "        # Handle case when temp_input is less than n_steps\n",
        "        # For simplicity, you might just want to wait until enough data is available\n",
        "        print(\"Not enough data to make a prediction.\")\n",
        "        break\n",
        "\n",
        "print(lst_output)\n"
      ]
    },
    {
      "cell_type": "code",
      "execution_count": 48,
      "metadata": {
        "id": "6LLX8S2v9D8J"
      },
      "outputs": [],
      "source": [
        "day_new=np.arange(1,101)\n",
        "day_pred=np.arange(101,131)"
      ]
    },
    {
      "cell_type": "code",
      "execution_count": 49,
      "metadata": {
        "id": "yKSyvuNG9D8J"
      },
      "outputs": [],
      "source": [
        "import matplotlib.pyplot as plt"
      ]
    },
    {
      "cell_type": "code",
      "execution_count": 50,
      "metadata": {
        "colab": {
          "base_uri": "https://localhost:8080/"
        },
        "id": "otWm1u959D8J",
        "outputId": "329759b3-732e-47c4-d9c4-cdac815d7eea"
      },
      "outputs": [
        {
          "output_type": "execute_result",
          "data": {
            "text/plain": [
              "10995"
            ]
          },
          "metadata": {},
          "execution_count": 50
        }
      ],
      "source": [
        "len(df1)"
      ]
    },
    {
      "cell_type": "code",
      "execution_count": 54,
      "metadata": {
        "colab": {
          "base_uri": "https://localhost:8080/",
          "height": 447
        },
        "id": "OhqfblGc9D8J",
        "outputId": "01356f64-4aa2-485e-ab03-51a6332ca82f"
      },
      "outputs": [
        {
          "output_type": "execute_result",
          "data": {
            "text/plain": [
              "[<matplotlib.lines.Line2D at 0x79cdcfc29d20>]"
            ]
          },
          "metadata": {},
          "execution_count": 54
        },
        {
          "output_type": "display_data",
          "data": {
            "text/plain": [
              "<Figure size 640x480 with 1 Axes>"
            ],
            "image/png": "[encoded data removed]"
          },
          "metadata": {}
        }
      ],
      "source": [
        "plt.plot(day_new, scaler.inverse_transform(df1[1158:1158+len(day_new)]))\n",
        "plt.plot(day_pred,scaler.inverse_transform(lst_output))"
      ]
    },
    {
      "cell_type": "code",
      "execution_count": 55,
      "metadata": {
        "colab": {
          "base_uri": "https://localhost:8080/",
          "height": 447
        },
        "id": "e8eqmQIF9D8J",
        "outputId": "89bdb7bf-4379-44df-d7df-92ee2b3459f4"
      },
      "outputs": [
        {
          "output_type": "execute_result",
          "data": {
            "text/plain": [
              "[<matplotlib.lines.Line2D at 0x79cdcfbd1ed0>]"
            ]
          },
          "metadata": {},
          "execution_count": 55
        },
        {
          "output_type": "display_data",
          "data": {
            "text/plain": [
              "<Figure size 640x480 with 1 Axes>"
            ],
            "image/png": "[encoded data removed]"
          },
          "metadata": {}
        }
      ],
      "source": [
        "df3=df1.tolist()\n",
        "df3.extend(lst_output)\n",
        "plt.plot(df3[1200:])"
      ]
    },
    {
      "cell_type": "code",
      "execution_count": 56,
      "metadata": {
        "id": "B-liZHsg9D8J"
      },
      "outputs": [],
      "source": [
        "df3=scaler.inverse_transform(df3).tolist()"
      ]
    },
    {
      "cell_type": "code",
      "execution_count": 57,
      "metadata": {
        "colab": {
          "base_uri": "https://localhost:8080/",
          "height": 447
        },
        "id": "6A_Qu89x9D8J",
        "outputId": "1c42702c-6ebd-450d-9bfc-a7748873f178"
      },
      "outputs": [
        {
          "output_type": "execute_result",
          "data": {
            "text/plain": [
              "[<matplotlib.lines.Line2D at 0x79cdcfca4b80>]"
            ]
          },
          "metadata": {},
          "execution_count": 57
        },
        {
          "output_type": "display_data",
          "data": {
            "text/plain": [
              "<Figure size 640x480 with 1 Axes>"
            ],
            "image/png": "[encoded data removed]"
          },
          "metadata": {}
        }
      ],
      "source": [
        "plt.plot(df3)"
      ]
    },
    {
      "cell_type": "code",
      "execution_count": 57,
      "metadata": {
        "id": "DD41H6kv9D8K"
      },
      "outputs": [],
      "source": []
    }
  ],
  "metadata": {
    "kernelspec": {
      "display_name": "Python 3",
      "language": "python",
      "name": "python3"
    },
    "language_info": {
      "codemirror_mode": {
        "name": "ipython",
        "version": 3
      },
      "file_extension": ".py",
      "mimetype": "text/x-python",
      "name": "python",
      "nbconvert_exporter": "python",
      "pygments_lexer": "ipython3",
      "version": "3.6.9"
    },
    "colab": {
      "provenance": []
    }
  },
  "nbformat": 4,
  "nbformat_minor": 0
}